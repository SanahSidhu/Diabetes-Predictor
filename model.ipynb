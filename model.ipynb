{
 "cells": [
  {
   "cell_type": "markdown",
   "metadata": {},
   "source": [
    "# Data Analysis"
   ]
  },
  {
   "cell_type": "code",
   "execution_count": 223,
   "metadata": {},
   "outputs": [],
   "source": [
    "import numpy as np\n",
    "import pandas as pd \n",
    "\n",
    "from sklearn.preprocessing import StandardScaler\n",
    "\n",
    "from sklearn.metrics import accuracy_score\n",
    "from sklearn.linear_model import LogisticRegression\n",
    "from sklearn.model_selection import train_test_split\n",
    "\n",
    "\n",
    "import plotly.graph_objects as go\n",
    "from scipy.stats import multivariate_normal as mn\n",
    "\n",
    "import matplotlib.pyplot as plt\n",
    "import seaborn as sns"
   ]
  },
  {
   "cell_type": "code",
   "execution_count": 224,
   "metadata": {},
   "outputs": [],
   "source": [
    "db_dataset = pd.read_csv(\"C:\\\\Users\\\\SANAH\\\\Desktop\\\\diabetes.csv\")"
   ]
  },
  {
   "cell_type": "code",
   "execution_count": 225,
   "metadata": {},
   "outputs": [
    {
     "data": {
      "text/html": [
       "<div>\n",
       "<style scoped>\n",
       "    .dataframe tbody tr th:only-of-type {\n",
       "        vertical-align: middle;\n",
       "    }\n",
       "\n",
       "    .dataframe tbody tr th {\n",
       "        vertical-align: top;\n",
       "    }\n",
       "\n",
       "    .dataframe thead th {\n",
       "        text-align: right;\n",
       "    }\n",
       "</style>\n",
       "<table border=\"1\" class=\"dataframe\">\n",
       "  <thead>\n",
       "    <tr style=\"text-align: right;\">\n",
       "      <th></th>\n",
       "      <th>Pregnancies</th>\n",
       "      <th>Glucose</th>\n",
       "      <th>BloodPressure</th>\n",
       "      <th>SkinThickness</th>\n",
       "      <th>Insulin</th>\n",
       "      <th>BMI</th>\n",
       "      <th>DiabetesPedigreeFunction</th>\n",
       "      <th>Age</th>\n",
       "      <th>Outcome</th>\n",
       "    </tr>\n",
       "  </thead>\n",
       "  <tbody>\n",
       "    <tr>\n",
       "      <th>0</th>\n",
       "      <td>6</td>\n",
       "      <td>148</td>\n",
       "      <td>72</td>\n",
       "      <td>35</td>\n",
       "      <td>0</td>\n",
       "      <td>33.6</td>\n",
       "      <td>0.627</td>\n",
       "      <td>50</td>\n",
       "      <td>1</td>\n",
       "    </tr>\n",
       "    <tr>\n",
       "      <th>1</th>\n",
       "      <td>1</td>\n",
       "      <td>85</td>\n",
       "      <td>66</td>\n",
       "      <td>29</td>\n",
       "      <td>0</td>\n",
       "      <td>26.6</td>\n",
       "      <td>0.351</td>\n",
       "      <td>31</td>\n",
       "      <td>0</td>\n",
       "    </tr>\n",
       "    <tr>\n",
       "      <th>2</th>\n",
       "      <td>8</td>\n",
       "      <td>183</td>\n",
       "      <td>64</td>\n",
       "      <td>0</td>\n",
       "      <td>0</td>\n",
       "      <td>23.3</td>\n",
       "      <td>0.672</td>\n",
       "      <td>32</td>\n",
       "      <td>1</td>\n",
       "    </tr>\n",
       "    <tr>\n",
       "      <th>3</th>\n",
       "      <td>1</td>\n",
       "      <td>89</td>\n",
       "      <td>66</td>\n",
       "      <td>23</td>\n",
       "      <td>94</td>\n",
       "      <td>28.1</td>\n",
       "      <td>0.167</td>\n",
       "      <td>21</td>\n",
       "      <td>0</td>\n",
       "    </tr>\n",
       "    <tr>\n",
       "      <th>4</th>\n",
       "      <td>0</td>\n",
       "      <td>137</td>\n",
       "      <td>40</td>\n",
       "      <td>35</td>\n",
       "      <td>168</td>\n",
       "      <td>43.1</td>\n",
       "      <td>2.288</td>\n",
       "      <td>33</td>\n",
       "      <td>1</td>\n",
       "    </tr>\n",
       "  </tbody>\n",
       "</table>\n",
       "</div>"
      ],
      "text/plain": [
       "   Pregnancies  Glucose  BloodPressure  SkinThickness  Insulin   BMI  \\\n",
       "0            6      148             72             35        0  33.6   \n",
       "1            1       85             66             29        0  26.6   \n",
       "2            8      183             64              0        0  23.3   \n",
       "3            1       89             66             23       94  28.1   \n",
       "4            0      137             40             35      168  43.1   \n",
       "\n",
       "   DiabetesPedigreeFunction  Age  Outcome  \n",
       "0                     0.627   50        1  \n",
       "1                     0.351   31        0  \n",
       "2                     0.672   32        1  \n",
       "3                     0.167   21        0  \n",
       "4                     2.288   33        1  "
      ]
     },
     "execution_count": 225,
     "metadata": {},
     "output_type": "execute_result"
    }
   ],
   "source": [
    "db_dataset.head()"
   ]
  },
  {
   "cell_type": "code",
   "execution_count": 226,
   "metadata": {},
   "outputs": [
    {
     "data": {
      "text/plain": [
       "(768, 9)"
      ]
     },
     "execution_count": 226,
     "metadata": {},
     "output_type": "execute_result"
    }
   ],
   "source": [
    "db_dataset.shape"
   ]
  },
  {
   "cell_type": "code",
   "execution_count": 227,
   "metadata": {},
   "outputs": [
    {
     "name": "stdout",
     "output_type": "stream",
     "text": [
      "<class 'pandas.core.frame.DataFrame'>\n",
      "RangeIndex: 768 entries, 0 to 767\n",
      "Data columns (total 9 columns):\n",
      " #   Column                    Non-Null Count  Dtype  \n",
      "---  ------                    --------------  -----  \n",
      " 0   Pregnancies               768 non-null    int64  \n",
      " 1   Glucose                   768 non-null    int64  \n",
      " 2   BloodPressure             768 non-null    int64  \n",
      " 3   SkinThickness             768 non-null    int64  \n",
      " 4   Insulin                   768 non-null    int64  \n",
      " 5   BMI                       768 non-null    float64\n",
      " 6   DiabetesPedigreeFunction  768 non-null    float64\n",
      " 7   Age                       768 non-null    int64  \n",
      " 8   Outcome                   768 non-null    int64  \n",
      "dtypes: float64(2), int64(7)\n",
      "memory usage: 54.1 KB\n"
     ]
    }
   ],
   "source": [
    "db_dataset.info()"
   ]
  },
  {
   "cell_type": "code",
   "execution_count": 228,
   "metadata": {},
   "outputs": [
    {
     "data": {
      "text/plain": [
       "Pregnancies                 0\n",
       "Glucose                     0\n",
       "BloodPressure               0\n",
       "SkinThickness               0\n",
       "Insulin                     0\n",
       "BMI                         0\n",
       "DiabetesPedigreeFunction    0\n",
       "Age                         0\n",
       "Outcome                     0\n",
       "dtype: int64"
      ]
     },
     "execution_count": 228,
     "metadata": {},
     "output_type": "execute_result"
    }
   ],
   "source": [
    "db_dataset.isnull().sum()"
   ]
  },
  {
   "cell_type": "code",
   "execution_count": 229,
   "metadata": {},
   "outputs": [
    {
     "data": {
      "text/html": [
       "<div>\n",
       "<style scoped>\n",
       "    .dataframe tbody tr th:only-of-type {\n",
       "        vertical-align: middle;\n",
       "    }\n",
       "\n",
       "    .dataframe tbody tr th {\n",
       "        vertical-align: top;\n",
       "    }\n",
       "\n",
       "    .dataframe thead th {\n",
       "        text-align: right;\n",
       "    }\n",
       "</style>\n",
       "<table border=\"1\" class=\"dataframe\">\n",
       "  <thead>\n",
       "    <tr style=\"text-align: right;\">\n",
       "      <th></th>\n",
       "      <th>Pregnancies</th>\n",
       "      <th>Glucose</th>\n",
       "      <th>BloodPressure</th>\n",
       "      <th>SkinThickness</th>\n",
       "      <th>Insulin</th>\n",
       "      <th>BMI</th>\n",
       "      <th>DiabetesPedigreeFunction</th>\n",
       "      <th>Age</th>\n",
       "      <th>Outcome</th>\n",
       "    </tr>\n",
       "  </thead>\n",
       "  <tbody>\n",
       "    <tr>\n",
       "      <th>count</th>\n",
       "      <td>768.000000</td>\n",
       "      <td>768.000000</td>\n",
       "      <td>768.000000</td>\n",
       "      <td>768.000000</td>\n",
       "      <td>768.000000</td>\n",
       "      <td>768.000000</td>\n",
       "      <td>768.000000</td>\n",
       "      <td>768.000000</td>\n",
       "      <td>768.000000</td>\n",
       "    </tr>\n",
       "    <tr>\n",
       "      <th>mean</th>\n",
       "      <td>3.845052</td>\n",
       "      <td>120.894531</td>\n",
       "      <td>69.105469</td>\n",
       "      <td>20.536458</td>\n",
       "      <td>79.799479</td>\n",
       "      <td>31.992578</td>\n",
       "      <td>0.471876</td>\n",
       "      <td>33.240885</td>\n",
       "      <td>0.348958</td>\n",
       "    </tr>\n",
       "    <tr>\n",
       "      <th>std</th>\n",
       "      <td>3.369578</td>\n",
       "      <td>31.972618</td>\n",
       "      <td>19.355807</td>\n",
       "      <td>15.952218</td>\n",
       "      <td>115.244002</td>\n",
       "      <td>7.884160</td>\n",
       "      <td>0.331329</td>\n",
       "      <td>11.760232</td>\n",
       "      <td>0.476951</td>\n",
       "    </tr>\n",
       "    <tr>\n",
       "      <th>min</th>\n",
       "      <td>0.000000</td>\n",
       "      <td>0.000000</td>\n",
       "      <td>0.000000</td>\n",
       "      <td>0.000000</td>\n",
       "      <td>0.000000</td>\n",
       "      <td>0.000000</td>\n",
       "      <td>0.078000</td>\n",
       "      <td>21.000000</td>\n",
       "      <td>0.000000</td>\n",
       "    </tr>\n",
       "    <tr>\n",
       "      <th>25%</th>\n",
       "      <td>1.000000</td>\n",
       "      <td>99.000000</td>\n",
       "      <td>62.000000</td>\n",
       "      <td>0.000000</td>\n",
       "      <td>0.000000</td>\n",
       "      <td>27.300000</td>\n",
       "      <td>0.243750</td>\n",
       "      <td>24.000000</td>\n",
       "      <td>0.000000</td>\n",
       "    </tr>\n",
       "    <tr>\n",
       "      <th>50%</th>\n",
       "      <td>3.000000</td>\n",
       "      <td>117.000000</td>\n",
       "      <td>72.000000</td>\n",
       "      <td>23.000000</td>\n",
       "      <td>30.500000</td>\n",
       "      <td>32.000000</td>\n",
       "      <td>0.372500</td>\n",
       "      <td>29.000000</td>\n",
       "      <td>0.000000</td>\n",
       "    </tr>\n",
       "    <tr>\n",
       "      <th>75%</th>\n",
       "      <td>6.000000</td>\n",
       "      <td>140.250000</td>\n",
       "      <td>80.000000</td>\n",
       "      <td>32.000000</td>\n",
       "      <td>127.250000</td>\n",
       "      <td>36.600000</td>\n",
       "      <td>0.626250</td>\n",
       "      <td>41.000000</td>\n",
       "      <td>1.000000</td>\n",
       "    </tr>\n",
       "    <tr>\n",
       "      <th>max</th>\n",
       "      <td>17.000000</td>\n",
       "      <td>199.000000</td>\n",
       "      <td>122.000000</td>\n",
       "      <td>99.000000</td>\n",
       "      <td>846.000000</td>\n",
       "      <td>67.100000</td>\n",
       "      <td>2.420000</td>\n",
       "      <td>81.000000</td>\n",
       "      <td>1.000000</td>\n",
       "    </tr>\n",
       "  </tbody>\n",
       "</table>\n",
       "</div>"
      ],
      "text/plain": [
       "       Pregnancies     Glucose  BloodPressure  SkinThickness     Insulin  \\\n",
       "count   768.000000  768.000000     768.000000     768.000000  768.000000   \n",
       "mean      3.845052  120.894531      69.105469      20.536458   79.799479   \n",
       "std       3.369578   31.972618      19.355807      15.952218  115.244002   \n",
       "min       0.000000    0.000000       0.000000       0.000000    0.000000   \n",
       "25%       1.000000   99.000000      62.000000       0.000000    0.000000   \n",
       "50%       3.000000  117.000000      72.000000      23.000000   30.500000   \n",
       "75%       6.000000  140.250000      80.000000      32.000000  127.250000   \n",
       "max      17.000000  199.000000     122.000000      99.000000  846.000000   \n",
       "\n",
       "              BMI  DiabetesPedigreeFunction         Age     Outcome  \n",
       "count  768.000000                768.000000  768.000000  768.000000  \n",
       "mean    31.992578                  0.471876   33.240885    0.348958  \n",
       "std      7.884160                  0.331329   11.760232    0.476951  \n",
       "min      0.000000                  0.078000   21.000000    0.000000  \n",
       "25%     27.300000                  0.243750   24.000000    0.000000  \n",
       "50%     32.000000                  0.372500   29.000000    0.000000  \n",
       "75%     36.600000                  0.626250   41.000000    1.000000  \n",
       "max     67.100000                  2.420000   81.000000    1.000000  "
      ]
     },
     "execution_count": 229,
     "metadata": {},
     "output_type": "execute_result"
    }
   ],
   "source": [
    "#stats of the data\n",
    "db_dataset.describe()"
   ]
  },
  {
   "cell_type": "code",
   "execution_count": 230,
   "metadata": {},
   "outputs": [
    {
     "data": {
      "text/plain": [
       "0    500\n",
       "1    268\n",
       "Name: Outcome, dtype: int64"
      ]
     },
     "execution_count": 230,
     "metadata": {},
     "output_type": "execute_result"
    }
   ],
   "source": [
    "db_dataset['Outcome'].value_counts()"
   ]
  },
  {
   "cell_type": "code",
   "execution_count": 231,
   "metadata": {},
   "outputs": [
    {
     "data": {
      "text/html": [
       "<div>\n",
       "<style scoped>\n",
       "    .dataframe tbody tr th:only-of-type {\n",
       "        vertical-align: middle;\n",
       "    }\n",
       "\n",
       "    .dataframe tbody tr th {\n",
       "        vertical-align: top;\n",
       "    }\n",
       "\n",
       "    .dataframe thead th {\n",
       "        text-align: right;\n",
       "    }\n",
       "</style>\n",
       "<table border=\"1\" class=\"dataframe\">\n",
       "  <thead>\n",
       "    <tr style=\"text-align: right;\">\n",
       "      <th></th>\n",
       "      <th>Pregnancies</th>\n",
       "      <th>Glucose</th>\n",
       "      <th>BloodPressure</th>\n",
       "      <th>SkinThickness</th>\n",
       "      <th>Insulin</th>\n",
       "      <th>BMI</th>\n",
       "      <th>DiabetesPedigreeFunction</th>\n",
       "      <th>Age</th>\n",
       "    </tr>\n",
       "    <tr>\n",
       "      <th>Outcome</th>\n",
       "      <th></th>\n",
       "      <th></th>\n",
       "      <th></th>\n",
       "      <th></th>\n",
       "      <th></th>\n",
       "      <th></th>\n",
       "      <th></th>\n",
       "      <th></th>\n",
       "    </tr>\n",
       "  </thead>\n",
       "  <tbody>\n",
       "    <tr>\n",
       "      <th>0</th>\n",
       "      <td>3.298000</td>\n",
       "      <td>109.980000</td>\n",
       "      <td>68.184000</td>\n",
       "      <td>19.664000</td>\n",
       "      <td>68.792000</td>\n",
       "      <td>30.304200</td>\n",
       "      <td>0.429734</td>\n",
       "      <td>31.190000</td>\n",
       "    </tr>\n",
       "    <tr>\n",
       "      <th>1</th>\n",
       "      <td>4.865672</td>\n",
       "      <td>141.257463</td>\n",
       "      <td>70.824627</td>\n",
       "      <td>22.164179</td>\n",
       "      <td>100.335821</td>\n",
       "      <td>35.142537</td>\n",
       "      <td>0.550500</td>\n",
       "      <td>37.067164</td>\n",
       "    </tr>\n",
       "  </tbody>\n",
       "</table>\n",
       "</div>"
      ],
      "text/plain": [
       "         Pregnancies     Glucose  BloodPressure  SkinThickness     Insulin  \\\n",
       "Outcome                                                                      \n",
       "0           3.298000  109.980000      68.184000      19.664000   68.792000   \n",
       "1           4.865672  141.257463      70.824627      22.164179  100.335821   \n",
       "\n",
       "               BMI  DiabetesPedigreeFunction        Age  \n",
       "Outcome                                                  \n",
       "0        30.304200                  0.429734  31.190000  \n",
       "1        35.142537                  0.550500  37.067164  "
      ]
     },
     "execution_count": 231,
     "metadata": {},
     "output_type": "execute_result"
    }
   ],
   "source": [
    "db_dataset.groupby('Outcome').mean()"
   ]
  },
  {
   "cell_type": "markdown",
   "metadata": {},
   "source": [
    "# Data Preprocessing"
   ]
  },
  {
   "cell_type": "code",
   "execution_count": 240,
   "metadata": {},
   "outputs": [
    {
     "data": {
      "text/plain": [
       "Pregnancies                   0\n",
       "Glucose                       5\n",
       "BloodPressure                35\n",
       "SkinThickness               227\n",
       "Insulin                     374\n",
       "BMI                          11\n",
       "DiabetesPedigreeFunction      0\n",
       "Age                           0\n",
       "Outcome                       0\n",
       "dtype: int64"
      ]
     },
     "execution_count": 240,
     "metadata": {},
     "output_type": "execute_result"
    }
   ],
   "source": [
    "# Replacing zero values with NaN\n",
    "db_dataset_new = db_dataset\n",
    "db_dataset_new[[\"Glucose\", \"BloodPressure\", \"SkinThickness\", \"Insulin\", \"BMI\"]] = db_dataset_new[[\"Glucose\", \"BloodPressure\", \"SkinThickness\", \"Insulin\", \"BMI\"]].replace(0, np.NaN) \n",
    "# Count of NaN\n",
    "db_dataset_new.isnull().sum()"
   ]
  },
  {
   "cell_type": "code",
   "execution_count": 241,
   "metadata": {},
   "outputs": [],
   "source": [
    "db_dataset_new = db_dataset_new.drop('Insulin',axis=1)"
   ]
  },
  {
   "cell_type": "code",
   "execution_count": 246,
   "metadata": {},
   "outputs": [],
   "source": [
    "db_dataset_new = db_dataset_new.dropna()"
   ]
  },
  {
   "cell_type": "code",
   "execution_count": 248,
   "metadata": {},
   "outputs": [
    {
     "data": {
      "text/html": [
       "<div>\n",
       "<style scoped>\n",
       "    .dataframe tbody tr th:only-of-type {\n",
       "        vertical-align: middle;\n",
       "    }\n",
       "\n",
       "    .dataframe tbody tr th {\n",
       "        vertical-align: top;\n",
       "    }\n",
       "\n",
       "    .dataframe thead th {\n",
       "        text-align: right;\n",
       "    }\n",
       "</style>\n",
       "<table border=\"1\" class=\"dataframe\">\n",
       "  <thead>\n",
       "    <tr style=\"text-align: right;\">\n",
       "      <th></th>\n",
       "      <th>Pregnancies</th>\n",
       "      <th>Glucose</th>\n",
       "      <th>BloodPressure</th>\n",
       "      <th>SkinThickness</th>\n",
       "      <th>BMI</th>\n",
       "      <th>DiabetesPedigreeFunction</th>\n",
       "      <th>Age</th>\n",
       "      <th>Outcome</th>\n",
       "    </tr>\n",
       "  </thead>\n",
       "  <tbody>\n",
       "    <tr>\n",
       "      <th>mean</th>\n",
       "      <td>3.516917</td>\n",
       "      <td>121.030075</td>\n",
       "      <td>71.505639</td>\n",
       "      <td>29.182331</td>\n",
       "      <td>32.890226</td>\n",
       "      <td>0.502966</td>\n",
       "      <td>31.614662</td>\n",
       "      <td>0.332707</td>\n",
       "    </tr>\n",
       "    <tr>\n",
       "      <th>median</th>\n",
       "      <td>2.000000</td>\n",
       "      <td>115.000000</td>\n",
       "      <td>72.000000</td>\n",
       "      <td>29.000000</td>\n",
       "      <td>32.800000</td>\n",
       "      <td>0.416000</td>\n",
       "      <td>28.000000</td>\n",
       "      <td>0.000000</td>\n",
       "    </tr>\n",
       "  </tbody>\n",
       "</table>\n",
       "</div>"
      ],
      "text/plain": [
       "        Pregnancies     Glucose  BloodPressure  SkinThickness        BMI  \\\n",
       "mean       3.516917  121.030075      71.505639      29.182331  32.890226   \n",
       "median     2.000000  115.000000      72.000000      29.000000  32.800000   \n",
       "\n",
       "        DiabetesPedigreeFunction        Age   Outcome  \n",
       "mean                    0.502966  31.614662  0.332707  \n",
       "median                  0.416000  28.000000  0.000000  "
      ]
     },
     "execution_count": 248,
     "metadata": {},
     "output_type": "execute_result"
    }
   ],
   "source": [
    "db_dataset_new.agg(['mean','median'])"
   ]
  },
  {
   "cell_type": "code",
   "execution_count": 250,
   "metadata": {},
   "outputs": [
    {
     "data": {
      "text/html": [
       "<div>\n",
       "<style scoped>\n",
       "    .dataframe tbody tr th:only-of-type {\n",
       "        vertical-align: middle;\n",
       "    }\n",
       "\n",
       "    .dataframe tbody tr th {\n",
       "        vertical-align: top;\n",
       "    }\n",
       "\n",
       "    .dataframe thead th {\n",
       "        text-align: right;\n",
       "    }\n",
       "</style>\n",
       "<table border=\"1\" class=\"dataframe\">\n",
       "  <thead>\n",
       "    <tr style=\"text-align: right;\">\n",
       "      <th></th>\n",
       "      <th>Pregnancies</th>\n",
       "      <th>Glucose</th>\n",
       "      <th>BloodPressure</th>\n",
       "      <th>SkinThickness</th>\n",
       "      <th>BMI</th>\n",
       "      <th>DiabetesPedigreeFunction</th>\n",
       "      <th>Age</th>\n",
       "      <th>Outcome</th>\n",
       "    </tr>\n",
       "  </thead>\n",
       "  <tbody>\n",
       "    <tr>\n",
       "      <th>count</th>\n",
       "      <td>532.000000</td>\n",
       "      <td>532.000000</td>\n",
       "      <td>532.000000</td>\n",
       "      <td>532.000000</td>\n",
       "      <td>532.000000</td>\n",
       "      <td>532.000000</td>\n",
       "      <td>532.000000</td>\n",
       "      <td>532.000000</td>\n",
       "    </tr>\n",
       "    <tr>\n",
       "      <th>mean</th>\n",
       "      <td>3.516917</td>\n",
       "      <td>121.030075</td>\n",
       "      <td>71.505639</td>\n",
       "      <td>29.182331</td>\n",
       "      <td>32.890226</td>\n",
       "      <td>0.502966</td>\n",
       "      <td>31.614662</td>\n",
       "      <td>0.332707</td>\n",
       "    </tr>\n",
       "    <tr>\n",
       "      <th>std</th>\n",
       "      <td>3.312036</td>\n",
       "      <td>30.999226</td>\n",
       "      <td>12.310253</td>\n",
       "      <td>10.523878</td>\n",
       "      <td>6.881109</td>\n",
       "      <td>0.344546</td>\n",
       "      <td>10.761584</td>\n",
       "      <td>0.471626</td>\n",
       "    </tr>\n",
       "    <tr>\n",
       "      <th>min</th>\n",
       "      <td>0.000000</td>\n",
       "      <td>56.000000</td>\n",
       "      <td>24.000000</td>\n",
       "      <td>7.000000</td>\n",
       "      <td>18.200000</td>\n",
       "      <td>0.085000</td>\n",
       "      <td>21.000000</td>\n",
       "      <td>0.000000</td>\n",
       "    </tr>\n",
       "    <tr>\n",
       "      <th>25%</th>\n",
       "      <td>1.000000</td>\n",
       "      <td>98.750000</td>\n",
       "      <td>64.000000</td>\n",
       "      <td>22.000000</td>\n",
       "      <td>27.875000</td>\n",
       "      <td>0.258750</td>\n",
       "      <td>23.000000</td>\n",
       "      <td>0.000000</td>\n",
       "    </tr>\n",
       "    <tr>\n",
       "      <th>50%</th>\n",
       "      <td>2.000000</td>\n",
       "      <td>115.000000</td>\n",
       "      <td>72.000000</td>\n",
       "      <td>29.000000</td>\n",
       "      <td>32.800000</td>\n",
       "      <td>0.416000</td>\n",
       "      <td>28.000000</td>\n",
       "      <td>0.000000</td>\n",
       "    </tr>\n",
       "    <tr>\n",
       "      <th>75%</th>\n",
       "      <td>5.000000</td>\n",
       "      <td>141.250000</td>\n",
       "      <td>80.000000</td>\n",
       "      <td>36.000000</td>\n",
       "      <td>36.900000</td>\n",
       "      <td>0.658500</td>\n",
       "      <td>38.000000</td>\n",
       "      <td>1.000000</td>\n",
       "    </tr>\n",
       "    <tr>\n",
       "      <th>max</th>\n",
       "      <td>17.000000</td>\n",
       "      <td>199.000000</td>\n",
       "      <td>110.000000</td>\n",
       "      <td>99.000000</td>\n",
       "      <td>67.100000</td>\n",
       "      <td>2.420000</td>\n",
       "      <td>81.000000</td>\n",
       "      <td>1.000000</td>\n",
       "    </tr>\n",
       "  </tbody>\n",
       "</table>\n",
       "</div>"
      ],
      "text/plain": [
       "       Pregnancies     Glucose  BloodPressure  SkinThickness         BMI  \\\n",
       "count   532.000000  532.000000     532.000000     532.000000  532.000000   \n",
       "mean      3.516917  121.030075      71.505639      29.182331   32.890226   \n",
       "std       3.312036   30.999226      12.310253      10.523878    6.881109   \n",
       "min       0.000000   56.000000      24.000000       7.000000   18.200000   \n",
       "25%       1.000000   98.750000      64.000000      22.000000   27.875000   \n",
       "50%       2.000000  115.000000      72.000000      29.000000   32.800000   \n",
       "75%       5.000000  141.250000      80.000000      36.000000   36.900000   \n",
       "max      17.000000  199.000000     110.000000      99.000000   67.100000   \n",
       "\n",
       "       DiabetesPedigreeFunction         Age     Outcome  \n",
       "count                532.000000  532.000000  532.000000  \n",
       "mean                   0.502966   31.614662    0.332707  \n",
       "std                    0.344546   10.761584    0.471626  \n",
       "min                    0.085000   21.000000    0.000000  \n",
       "25%                    0.258750   23.000000    0.000000  \n",
       "50%                    0.416000   28.000000    0.000000  \n",
       "75%                    0.658500   38.000000    1.000000  \n",
       "max                    2.420000   81.000000    1.000000  "
      ]
     },
     "execution_count": 250,
     "metadata": {},
     "output_type": "execute_result"
    }
   ],
   "source": [
    "db_dataset_new.describe()"
   ]
  },
  {
   "cell_type": "markdown",
   "metadata": {},
   "source": [
    "# Data Visualization"
   ]
  },
  {
   "cell_type": "code",
   "execution_count": 251,
   "metadata": {},
   "outputs": [
    {
     "data": {
      "text/plain": [
       "<matplotlib.axes._subplots.AxesSubplot at 0x1a26984c588>"
      ]
     },
     "execution_count": 251,
     "metadata": {},
     "output_type": "execute_result"
    },
    {
     "data": {
      "image/png": "[encoded data removed]",
      "text/plain": [
       "<Figure size 432x288 with 1 Axes>"
      ]
     },
     "metadata": {
      "needs_background": "light"
     },
     "output_type": "display_data"
    }
   ],
   "source": [
    "sns.countplot( x = 'Outcome', data = db_dataset_new)"
   ]
  },
  {
   "cell_type": "code",
   "execution_count": 252,
   "metadata": {},
   "outputs": [
    {
     "data": {
      "text/plain": [
       "array([[<matplotlib.axes._subplots.AxesSubplot object at 0x000001A263F9E248>,\n",
       "        <matplotlib.axes._subplots.AxesSubplot object at 0x000001A26984B108>,\n",
       "        <matplotlib.axes._subplots.AxesSubplot object at 0x000001A269D5D888>],\n",
       "       [<matplotlib.axes._subplots.AxesSubplot object at 0x000001A263394608>,\n",
       "        <matplotlib.axes._subplots.AxesSubplot object at 0x000001A25B7FF388>,\n",
       "        <matplotlib.axes._subplots.AxesSubplot object at 0x000001A263FF05C8>],\n",
       "       [<matplotlib.axes._subplots.AxesSubplot object at 0x000001A2695A3F48>,\n",
       "        <matplotlib.axes._subplots.AxesSubplot object at 0x000001A26980BA88>,\n",
       "        <matplotlib.axes._subplots.AxesSubplot object at 0x000001A269830B88>]],\n",
       "      dtype=object)"
      ]
     },
     "execution_count": 252,
     "metadata": {},
     "output_type": "execute_result"
    },
    {
     "data": {
      "image/png": "[encoded data removed]",
      "text/plain": [
       "<Figure size 1080x720 with 9 Axes>"
      ]
     },
     "metadata": {
      "needs_background": "light"
     },
     "output_type": "display_data"
    }
   ],
   "source": [
    "histo_data =db_dataset_new.loc[:,'Pregnancies': 'Age']\n",
    "histo_data.hist(bins = 20, figsize = (15,10))"
   ]
  },
  {
   "cell_type": "code",
   "execution_count": 253,
   "metadata": {},
   "outputs": [
    {
     "data": {
      "image/png": "[encoded data removed]",
      "text/plain": [
       "<Figure size 1313.25x1260 with 56 Axes>"
      ]
     },
     "metadata": {
      "needs_background": "light"
     },
     "output_type": "display_data"
    }
   ],
   "source": [
    "sns.pairplot(data = db_dataset_new, hue = 'Outcome')\n",
    "plt.show()"
   ]
  },
  {
   "cell_type": "code",
   "execution_count": 254,
   "metadata": {},
   "outputs": [
    {
     "data": {
      "image/png": "[encoded data removed]",
      "text/plain": [
       "<Figure size 432x288 with 2 Axes>"
      ]
     },
     "metadata": {
      "needs_background": "light"
     },
     "output_type": "display_data"
    }
   ],
   "source": [
    "sns.heatmap(db_dataset_new.corr(), annot = True)\n",
    "plt.show()"
   ]
  },
  {
   "cell_type": "markdown",
   "metadata": {},
   "source": [
    "# Probablistic Analysis"
   ]
  },
  {
   "cell_type": "code",
   "execution_count": 255,
   "metadata": {},
   "outputs": [],
   "source": [
    "data = db_dataset_new[[\"Glucose\",\"BMI\",\"Age\",\"Outcome\"]]"
   ]
  },
  {
   "cell_type": "code",
   "execution_count": 259,
   "metadata": {},
   "outputs": [
    {
     "data": {
      "application/vnd.plotly.v1+json": {
       "config": {
        "plotlyServerURL": "https://plot.ly"
       },
       "data": [
        {
         "marker": {
          "color": "pink"
         },
         "mode": "markers",
         "name": "Diabetic",
         "type": "scatter3d",
         "x": [
          148,
          137,
          78,
          197,
          189,
          166,
          118,
          115,
          119,
          143,
          125,
          158,
          102,
          90,
          111,
          171,
          180,
          103,
          176,
          187,
          109,
          100,
          136,
          122,
          95,
          171,
          155,
          160,
          162,
          88,
          117,
          173,
          170,
          156,
          152,
          163,
          104,
          134,
          179,
          129,
          194,
          181,
          128,
          109,
          139,
          158,
          107,
          109,
          148,
          196,
          184,
          140,
          112,
          151,
          109,
          85,
          177,
          162,
          134,
          181,
          179,
          164,
          119,
          184,
          92,
          113,
          155,
          101,
          106,
          119,
          107,
          128,
          128,
          146,
          100,
          144,
          161,
          128,
          124,
          155,
          109,
          112,
          124,
          152,
          122,
          102,
          152,
          125,
          196,
          189,
          133,
          173,
          140,
          116,
          105,
          144,
          131,
          193,
          136,
          172,
          138,
          173,
          144,
          129,
          151,
          184,
          181,
          95,
          189,
          117,
          180,
          104,
          175,
          148,
          105,
          158,
          135,
          125,
          195,
          180,
          84,
          163,
          145,
          129,
          100,
          128,
          90,
          186,
          187,
          198,
          121,
          197,
          151,
          124,
          176,
          111,
          188,
          150,
          181,
          174,
          168,
          138,
          112,
          97,
          167,
          179,
          136,
          155,
          80,
          199,
          167,
          145,
          115,
          145,
          111,
          162,
          144,
          129,
          142,
          169,
          125,
          168,
          93,
          129,
          187,
          173,
          97,
          149,
          130,
          174,
          120,
          147,
          187,
          181,
          154,
          128,
          170
         ],
         "y": [
          33.6,
          43.1,
          31,
          30.5,
          30.1,
          25.8,
          45.8,
          34.6,
          29,
          36.6,
          31.1,
          31.6,
          32.9,
          38.2,
          37.1,
          45.4,
          42,
          39.1,
          33.7,
          37.7,
          32.5,
          32.9,
          37.1,
          49.7,
          37.4,
          33.3,
          34,
          30.5,
          53.2,
          55,
          34.5,
          29.7,
          34.5,
          34.3,
          50,
          40.9,
          29.9,
          35.4,
          32.7,
          67.1,
          35.9,
          30.1,
          32,
          27.9,
          31.6,
          39.4,
          22.9,
          34.8,
          30.9,
          37.5,
          35.5,
          42.6,
          34.2,
          41.8,
          35.8,
          29,
          34.6,
          37.2,
          46.2,
          35.9,
          44.1,
          30.8,
          27.1,
          30,
          27.6,
          33.6,
          33.3,
          45.6,
          26.5,
          45.6,
          36.6,
          43.3,
          40.5,
          28,
          36.6,
          31.6,
          25.5,
          30.5,
          32.9,
          26.6,
          35.9,
          31.6,
          27.4,
          26.8,
          35.1,
          45.5,
          34.2,
          33.3,
          36.5,
          31.2,
          32.8,
          38.4,
          39.2,
          32.3,
          43.3,
          32,
          34.3,
          34.9,
          35,
          42.4,
          34.6,
          35.7,
          38.5,
          26.4,
          42.9,
          37,
          34.1,
          35,
          34.3,
          29.7,
          59.4,
          33.6,
          33.6,
          37.6,
          33.7,
          35.5,
          42.3,
          28.9,
          25.1,
          36.5,
          29.7,
          31.6,
          30.3,
          36.4,
          39.4,
          32.4,
          34.9,
          34.5,
          43.6,
          41.3,
          34.3,
          34.7,
          42.1,
          28.7,
          33.3,
          46.8,
          32,
          35.2,
          40,
          32.9,
          38.2,
          36.1,
          28.2,
          40.9,
          23.4,
          37.8,
          28.3,
          38.7,
          34.2,
          42.9,
          37.6,
          37.9,
          33.7,
          32.5,
          27.5,
          49.6,
          46.1,
          38.5,
          30.4,
          29.9,
          27.6,
          35,
          38,
          41.2,
          33.9,
          33.8,
          35.6,
          29.3,
          28.4,
          44.5,
          42.3,
          49.3,
          36.4,
          43.3,
          32.4,
          36.5,
          44
         ],
         "z": [
          50,
          33,
          26,
          53,
          59,
          51,
          31,
          32,
          29,
          51,
          41,
          28,
          46,
          27,
          56,
          54,
          25,
          31,
          58,
          41,
          38,
          28,
          43,
          31,
          24,
          24,
          46,
          39,
          25,
          26,
          40,
          33,
          30,
          42,
          36,
          47,
          41,
          29,
          36,
          26,
          41,
          60,
          33,
          31,
          25,
          29,
          23,
          26,
          29,
          57,
          41,
          24,
          36,
          38,
          25,
          32,
          21,
          24,
          46,
          51,
          23,
          32,
          33,
          49,
          44,
          21,
          51,
          38,
          29,
          29,
          25,
          31,
          24,
          29,
          46,
          25,
          47,
          25,
          30,
          27,
          43,
          25,
          36,
          43,
          30,
          23,
          33,
          28,
          29,
          29,
          45,
          25,
          58,
          35,
          45,
          58,
          22,
          25,
          35,
          28,
          21,
          22,
          37,
          28,
          36,
          31,
          38,
          43,
          41,
          30,
          25,
          22,
          38,
          51,
          29,
          35,
          24,
          45,
          55,
          35,
          46,
          28,
          53,
          32,
          43,
          27,
          56,
          37,
          53,
          28,
          33,
          62,
          21,
          52,
          52,
          45,
          22,
          54,
          22,
          36,
          40,
          50,
          50,
          32,
          33,
          22,
          42,
          25,
          27,
          22,
          43,
          40,
          40,
          70,
          40,
          26,
          46,
          43,
          43,
          31,
          49,
          52,
          23,
          38,
          34,
          31,
          52,
          42,
          34,
          24,
          48,
          27,
          36,
          26,
          45,
          37,
          43
         ]
        },
        {
         "marker": {
          "color": "purple"
         },
         "mode": "markers",
         "name": "Non Diabetic",
         "type": "scatter3d",
         "x": [
          85,
          89,
          103,
          126,
          97,
          145,
          109,
          88,
          122,
          103,
          180,
          106,
          71,
          103,
          101,
          88,
          150,
          73,
          100,
          105,
          141,
          99,
          95,
          146,
          139,
          129,
          79,
          95,
          112,
          113,
          83,
          101,
          110,
          106,
          100,
          107,
          123,
          81,
          142,
          144,
          92,
          71,
          93,
          81,
          126,
          144,
          83,
          89,
          97,
          99,
          111,
          107,
          120,
          118,
          84,
          96,
          125,
          100,
          93,
          105,
          106,
          108,
          154,
          57,
          106,
          90,
          136,
          153,
          99,
          109,
          88,
          151,
          102,
          114,
          100,
          148,
          111,
          79,
          75,
          119,
          123,
          85,
          113,
          108,
          99,
          103,
          111,
          96,
          81,
          147,
          179,
          125,
          142,
          100,
          87,
          197,
          117,
          79,
          74,
          91,
          91,
          146,
          165,
          124,
          111,
          90,
          86,
          111,
          114,
          193,
          191,
          95,
          142,
          96,
          128,
          108,
          71,
          100,
          104,
          108,
          129,
          133,
          136,
          155,
          96,
          108,
          78,
          151,
          126,
          77,
          120,
          137,
          80,
          106,
          113,
          112,
          99,
          115,
          129,
          112,
          157,
          105,
          118,
          87,
          95,
          165,
          130,
          95,
          126,
          139,
          99,
          61,
          90,
          88,
          103,
          147,
          99,
          101,
          81,
          84,
          105,
          122,
          98,
          87,
          93,
          107,
          105,
          109,
          90,
          125,
          119,
          100,
          100,
          131,
          116,
          127,
          96,
          72,
          123,
          102,
          112,
          143,
          143,
          97,
          119,
          94,
          102,
          115,
          135,
          89,
          80,
          90,
          140,
          97,
          83,
          117,
          100,
          95,
          120,
          82,
          91,
          100,
          86,
          134,
          120,
          74,
          88,
          124,
          74,
          97,
          154,
          144,
          137,
          119,
          137,
          114,
          126,
          132,
          123,
          85,
          84,
          139,
          173,
          99,
          83,
          89,
          99,
          81,
          154,
          117,
          84,
          94,
          96,
          130,
          84,
          139,
          99,
          129,
          68,
          124,
          87,
          97,
          116,
          117,
          122,
          86,
          77,
          127,
          84,
          88,
          131,
          164,
          189,
          116,
          84,
          88,
          84,
          124,
          97,
          103,
          87,
          99,
          95,
          99,
          92,
          154,
          111,
          98,
          143,
          119,
          108,
          109,
          121,
          93,
          112,
          82,
          123,
          89,
          109,
          108,
          124,
          124,
          92,
          152,
          111,
          106,
          105,
          68,
          112,
          92,
          94,
          90,
          94,
          102,
          128,
          94,
          100,
          102,
          103,
          157,
          107,
          91,
          117,
          123,
          106,
          101,
          120,
          112,
          98,
          154,
          165,
          99,
          68,
          123,
          101,
          56,
          95,
          129,
          107,
          140,
          121,
          127,
          122,
          110,
          80,
          127,
          158,
          126,
          134,
          94,
          108,
          83,
          114,
          117,
          112,
          116,
          141,
          106,
          95,
          126,
          65,
          99,
          102,
          109,
          153,
          100,
          81,
          121,
          108,
          137,
          88,
          101,
          122,
          121,
          93
         ],
         "y": [
          26.6,
          28.1,
          43.3,
          39.3,
          23.2,
          22.2,
          36,
          24.8,
          27.6,
          24,
          34,
          22.7,
          28,
          19.4,
          24.2,
          24.4,
          34.7,
          23,
          46.8,
          41.5,
          25.4,
          29,
          19.6,
          28.9,
          28.6,
          35.1,
          32,
          37.7,
          25,
          22.4,
          29.3,
          24.6,
          32.4,
          36.6,
          38.5,
          26.5,
          32,
          46.7,
          24.7,
          33.9,
          31.6,
          20.4,
          28.7,
          26.6,
          28.7,
          29.5,
          34.3,
          31.2,
          28.2,
          23.2,
          34.2,
          33.6,
          42.9,
          33.3,
          38.3,
          21.1,
          33.8,
          30.8,
          28.7,
          36.9,
          39.5,
          32.5,
          32.8,
          32.8,
          30.5,
          27.3,
          37.4,
          40.6,
          24.6,
          25.2,
          29,
          29.7,
          37.2,
          44.2,
          29.7,
          32.5,
          28.4,
          43.5,
          29.7,
          34.9,
          33.1,
          24.4,
          31,
          27.3,
          20.4,
          37.7,
          23.9,
          33.2,
          27.7,
          42.8,
          34.2,
          30,
          28.8,
          23.6,
          34.6,
          36.7,
          45.2,
          25.4,
          29.7,
          29.2,
          33.1,
          38.2,
          52.3,
          35.4,
          30.1,
          24.4,
          35.8,
          30.1,
          28.7,
          25.9,
          30.9,
          32.1,
          32.4,
          33.6,
          40,
          25.2,
          33.2,
          40.5,
          27.8,
          25.3,
          35.9,
          32.4,
          26,
          38.7,
          20.8,
          36.1,
          36.9,
          35.5,
          30.7,
          35.8,
          39.7,
          24.8,
          26.2,
          39.4,
          29.5,
          34.1,
          19.3,
          38.1,
          27.5,
          35.7,
          25.6,
          30.8,
          23.1,
          32.7,
          23.9,
          47.9,
          25.9,
          25.9,
          38.5,
          28.7,
          21.8,
          34.4,
          27.2,
          35.3,
          39.2,
          34.9,
          34,
          21,
          27.5,
          35.8,
          34.9,
          36.2,
          25.2,
          37.2,
          43.4,
          30.8,
          20,
          25.4,
          25.1,
          24.3,
          22.3,
          31.6,
          32,
          23.7,
          22.1,
          27.7,
          24.7,
          31.6,
          42.1,
          35.7,
          34.4,
          42.4,
          26.2,
          27.2,
          45.3,
          26,
          40.6,
          30.8,
          40.6,
          30.4,
          30,
          24.5,
          37.4,
          18.2,
          32.2,
          33.2,
          25.3,
          36.5,
          30.5,
          21.2,
          39.9,
          37.8,
          30.2,
          25.9,
          20.8,
          35.3,
          27.6,
          21.8,
          27.8,
          36.8,
          46.1,
          41.3,
          33.2,
          38.8,
          27.3,
          23.8,
          25.9,
          28,
          35.2,
          27.8,
          38.2,
          40.7,
          46.5,
          25.6,
          36.8,
          33.5,
          32.8,
          30.1,
          29.3,
          25.2,
          37.2,
          33.3,
          37.3,
          28.6,
          30.4,
          22.1,
          25.6,
          19.6,
          25,
          33.2,
          21.8,
          18.2,
          26.3,
          30.8,
          29.8,
          41.3,
          33.3,
          36.3,
          39.5,
          32,
          33.1,
          32.8,
          28.5,
          27.4,
          31.9,
          29.9,
          36.9,
          25.5,
          38.1,
          46.2,
          37.6,
          26.9,
          26.1,
          38.6,
          32,
          31.3,
          29.5,
          34.7,
          30.1,
          35.5,
          24,
          25,
          26.5,
          22.5,
          39.4,
          28.5,
          33.6,
          27.8,
          23.1,
          27.1,
          27.8,
          35.8,
          19.5,
          41.5,
          24,
          30.9,
          32.5,
          20.1,
          38.4,
          24.2,
          43.5,
          37.7,
          24.7,
          34.5,
          27.5,
          31.6,
          19.5,
          29.3,
          27.6,
          39.4,
          26.4,
          25.2,
          33.8,
          34.1,
          34.2,
          21.8,
          38.9,
          34.8,
          34,
          30.9,
          33.6,
          25.4,
          35.5,
          57.3,
          24.2,
          24.2,
          44.6,
          33.2,
          28.3,
          24.1,
          39.1,
          34.5,
          35.9,
          28.4,
          39.8,
          34.4,
          31.2,
          29.6,
          26.4,
          23.1,
          35.5,
          29.3,
          38.1,
          39.1,
          39.4,
          36.1,
          32.4,
          29,
          35.4,
          27.4,
          32,
          36.6,
          30.8,
          28.5,
          40.6,
          30,
          46.3,
          39,
          26,
          32,
          28.4,
          32.9,
          36.8,
          26.2,
          30.4
         ],
         "z": [
          31,
          21,
          33,
          27,
          22,
          57,
          60,
          22,
          45,
          33,
          26,
          48,
          22,
          22,
          26,
          30,
          42,
          21,
          31,
          22,
          24,
          32,
          25,
          27,
          26,
          23,
          22,
          27,
          24,
          22,
          36,
          22,
          27,
          45,
          26,
          24,
          34,
          42,
          21,
          40,
          24,
          22,
          23,
          24,
          21,
          37,
          25,
          23,
          22,
          21,
          24,
          23,
          30,
          23,
          39,
          26,
          31,
          21,
          22,
          28,
          38,
          22,
          23,
          41,
          34,
          22,
          24,
          23,
          21,
          23,
          22,
          36,
          45,
          27,
          21,
          22,
          29,
          23,
          33,
          23,
          40,
          42,
          21,
          32,
          27,
          55,
          27,
          21,
          25,
          24,
          60,
          32,
          61,
          26,
          22,
          31,
          24,
          22,
          23,
          21,
          22,
          29,
          23,
          34,
          23,
          24,
          25,
          30,
          25,
          24,
          34,
          24,
          63,
          43,
          24,
          21,
          21,
          25,
          23,
          22,
          39,
          37,
          51,
          34,
          26,
          33,
          21,
          28,
          24,
          35,
          29,
          21,
          41,
          22,
          25,
          26,
          30,
          28,
          31,
          21,
          24,
          37,
          46,
          25,
          22,
          26,
          22,
          36,
          49,
          22,
          26,
          46,
          24,
          48,
          65,
          30,
          30,
          21,
          22,
          21,
          25,
          28,
          22,
          22,
          35,
          24,
          22,
          21,
          25,
          25,
          24,
          28,
          42,
          21,
          37,
          25,
          39,
          38,
          26,
          28,
          25,
          22,
          21,
          22,
          26,
          21,
          21,
          21,
          26,
          38,
          22,
          36,
          41,
          21,
          22,
          24,
          28,
          26,
          26,
          23,
          25,
          24,
          24,
          81,
          48,
          39,
          37,
          21,
          22,
          25,
          27,
          28,
          22,
          22,
          59,
          31,
          39,
          63,
          29,
          28,
          23,
          21,
          58,
          28,
          24,
          42,
          33,
          25,
          39,
          21,
          28,
          41,
          40,
          21,
          21,
          21,
          24,
          60,
          25,
          26,
          21,
          21,
          24,
          22,
          22,
          29,
          24,
          23,
          25,
          29,
          28,
          50,
          37,
          21,
          25,
          23,
          28,
          37,
          30,
          42,
          24,
          32,
          22,
          21,
          46,
          37,
          22,
          22,
          23,
          25,
          35,
          27,
          62,
          22,
          24,
          25,
          34,
          21,
          26,
          24,
          30,
          21,
          25,
          27,
          23,
          24,
          26,
          23,
          28,
          28,
          21,
          29,
          21,
          24,
          22,
          23,
          28,
          27,
          27,
          30,
          23,
          23,
          27,
          28,
          22,
          22,
          41,
          24,
          43,
          45,
          49,
          21,
          47,
          22,
          23,
          22,
          22,
          25,
          29,
          23,
          23,
          28,
          26,
          27,
          28,
          22,
          24,
          40,
          21,
          56,
          24,
          34,
          21,
          42,
          38,
          25,
          22,
          22,
          28,
          21,
          42,
          21,
          26,
          22,
          39,
          46,
          32,
          28,
          25,
          39,
          22,
          63,
          27,
          30,
          23
         ]
        }
       ],
       "layout": {
        "template": {
         "data": {
          "bar": [
           {
            "error_x": {
             "color": "#2a3f5f"
            },
            "error_y": {
             "color": "#2a3f5f"
            },
            "marker": {
             "line": {
              "color": "#E5ECF6",
              "width": 0.5
             },
             "pattern": {
              "fillmode": "overlay",
              "size": 10,
              "solidity": 0.2
             }
            },
            "type": "bar"
           }
          ],
          "barpolar": [
           {
            "marker": {
             "line": {
              "color": "#E5ECF6",
              "width": 0.5
             },
             "pattern": {
              "fillmode": "overlay",
              "size": 10,
              "solidity": 0.2
             }
            },
            "type": "barpolar"
           }
          ],
          "carpet": [
           {
            "aaxis": {
             "endlinecolor": "#2a3f5f",
             "gridcolor": "white",
             "linecolor": "white",
             "minorgridcolor": "white",
             "startlinecolor": "#2a3f5f"
            },
            "baxis": {
             "endlinecolor": "#2a3f5f",
             "gridcolor": "white",
             "linecolor": "white",
             "minorgridcolor": "white",
             "startlinecolor": "#2a3f5f"
            },
            "type": "carpet"
           }
          ],
          "choropleth": [
           {
            "colorbar": {
             "outlinewidth": 0,
             "ticks": ""
            },
            "type": "choropleth"
           }
          ],
          "contour": [
           {
            "colorbar": {
             "outlinewidth": 0,
             "ticks": ""
            },
            "colorscale": [
             [
              0,
              "#0d0887"
             ],
             [
              0.1111111111111111,
              "#46039f"
             ],
             [
              0.2222222222222222,
              "#7201a8"
             ],
             [
              0.3333333333333333,
              "#9c179e"
             ],
             [
              0.4444444444444444,
              "#bd3786"
             ],
             [
              0.5555555555555556,
              "#d8576b"
             ],
             [
              0.6666666666666666,
              "#ed7953"
             ],
             [
              0.7777777777777778,
              "#fb9f3a"
             ],
             [
              0.8888888888888888,
              "#fdca26"
             ],
             [
              1,
              "#f0f921"
             ]
            ],
            "type": "contour"
           }
          ],
          "contourcarpet": [
           {
            "colorbar": {
             "outlinewidth": 0,
             "ticks": ""
            },
            "type": "contourcarpet"
           }
          ],
          "heatmap": [
           {
            "colorbar": {
             "outlinewidth": 0,
             "ticks": ""
            },
            "colorscale": [
             [
              0,
              "#0d0887"
             ],
             [
              0.1111111111111111,
              "#46039f"
             ],
             [
              0.2222222222222222,
              "#7201a8"
             ],
             [
              0.3333333333333333,
              "#9c179e"
             ],
             [
              0.4444444444444444,
              "#bd3786"
             ],
             [
              0.5555555555555556,
              "#d8576b"
             ],
             [
              0.6666666666666666,
              "#ed7953"
             ],
             [
              0.7777777777777778,
              "#fb9f3a"
             ],
             [
              0.8888888888888888,
              "#fdca26"
             ],
             [
              1,
              "#f0f921"
             ]
            ],
            "type": "heatmap"
           }
          ],
          "heatmapgl": [
           {
            "colorbar": {
             "outlinewidth": 0,
             "ticks": ""
            },
            "colorscale": [
             [
              0,
              "#0d0887"
             ],
             [
              0.1111111111111111,
              "#46039f"
             ],
             [
              0.2222222222222222,
              "#7201a8"
             ],
             [
              0.3333333333333333,
              "#9c179e"
             ],
             [
              0.4444444444444444,
              "#bd3786"
             ],
             [
              0.5555555555555556,
              "#d8576b"
             ],
             [
              0.6666666666666666,
              "#ed7953"
             ],
             [
              0.7777777777777778,
              "#fb9f3a"
             ],
             [
              0.8888888888888888,
              "#fdca26"
             ],
             [
              1,
              "#f0f921"
             ]
            ],
            "type": "heatmapgl"
           }
          ],
          "histogram": [
           {
            "marker": {
             "pattern": {
              "fillmode": "overlay",
              "size": 10,
              "solidity": 0.2
             }
            },
            "type": "histogram"
           }
          ],
          "histogram2d": [
           {
            "colorbar": {
             "outlinewidth": 0,
             "ticks": ""
            },
            "colorscale": [
             [
              0,
              "#0d0887"
             ],
             [
              0.1111111111111111,
              "#46039f"
             ],
             [
              0.2222222222222222,
              "#7201a8"
             ],
             [
              0.3333333333333333,
              "#9c179e"
             ],
             [
              0.4444444444444444,
              "#bd3786"
             ],
             [
              0.5555555555555556,
              "#d8576b"
             ],
             [
              0.6666666666666666,
              "#ed7953"
             ],
             [
              0.7777777777777778,
              "#fb9f3a"
             ],
             [
              0.8888888888888888,
              "#fdca26"
             ],
             [
              1,
              "#f0f921"
             ]
            ],
            "type": "histogram2d"
           }
          ],
          "histogram2dcontour": [
           {
            "colorbar": {
             "outlinewidth": 0,
             "ticks": ""
            },
            "colorscale": [
             [
              0,
              "#0d0887"
             ],
             [
              0.1111111111111111,
              "#46039f"
             ],
             [
              0.2222222222222222,
              "#7201a8"
             ],
             [
              0.3333333333333333,
              "#9c179e"
             ],
             [
              0.4444444444444444,
              "#bd3786"
             ],
             [
              0.5555555555555556,
              "#d8576b"
             ],
             [
              0.6666666666666666,
              "#ed7953"
             ],
             [
              0.7777777777777778,
              "#fb9f3a"
             ],
             [
              0.8888888888888888,
              "#fdca26"
             ],
             [
              1,
              "#f0f921"
             ]
            ],
            "type": "histogram2dcontour"
           }
          ],
          "mesh3d": [
           {
            "colorbar": {
             "outlinewidth": 0,
             "ticks": ""
            },
            "type": "mesh3d"
           }
          ],
          "parcoords": [
           {
            "line": {
             "colorbar": {
              "outlinewidth": 0,
              "ticks": ""
             }
            },
            "type": "parcoords"
           }
          ],
          "pie": [
           {
            "automargin": true,
            "type": "pie"
           }
          ],
          "scatter": [
           {
            "marker": {
             "colorbar": {
              "outlinewidth": 0,
              "ticks": ""
             }
            },
            "type": "scatter"
           }
          ],
          "scatter3d": [
           {
            "line": {
             "colorbar": {
              "outlinewidth": 0,
              "ticks": ""
             }
            },
            "marker": {
             "colorbar": {
              "outlinewidth": 0,
              "ticks": ""
             }
            },
            "type": "scatter3d"
           }
          ],
          "scattercarpet": [
           {
            "marker": {
             "colorbar": {
              "outlinewidth": 0,
              "ticks": ""
             }
            },
            "type": "scattercarpet"
           }
          ],
          "scattergeo": [
           {
            "marker": {
             "colorbar": {
              "outlinewidth": 0,
              "ticks": ""
             }
            },
            "type": "scattergeo"
           }
          ],
          "scattergl": [
           {
            "marker": {
             "colorbar": {
              "outlinewidth": 0,
              "ticks": ""
             }
            },
            "type": "scattergl"
           }
          ],
          "scattermapbox": [
           {
            "marker": {
             "colorbar": {
              "outlinewidth": 0,
              "ticks": ""
             }
            },
            "type": "scattermapbox"
           }
          ],
          "scatterpolar": [
           {
            "marker": {
             "colorbar": {
              "outlinewidth": 0,
              "ticks": ""
             }
            },
            "type": "scatterpolar"
           }
          ],
          "scatterpolargl": [
           {
            "marker": {
             "colorbar": {
              "outlinewidth": 0,
              "ticks": ""
             }
            },
            "type": "scatterpolargl"
           }
          ],
          "scatterternary": [
           {
            "marker": {
             "colorbar": {
              "outlinewidth": 0,
              "ticks": ""
             }
            },
            "type": "scatterternary"
           }
          ],
          "surface": [
           {
            "colorbar": {
             "outlinewidth": 0,
             "ticks": ""
            },
            "colorscale": [
             [
              0,
              "#0d0887"
             ],
             [
              0.1111111111111111,
              "#46039f"
             ],
             [
              0.2222222222222222,
              "#7201a8"
             ],
             [
              0.3333333333333333,
              "#9c179e"
             ],
             [
              0.4444444444444444,
              "#bd3786"
             ],
             [
              0.5555555555555556,
              "#d8576b"
             ],
             [
              0.6666666666666666,
              "#ed7953"
             ],
             [
              0.7777777777777778,
              "#fb9f3a"
             ],
             [
              0.8888888888888888,
              "#fdca26"
             ],
             [
              1,
              "#f0f921"
             ]
            ],
            "type": "surface"
           }
          ],
          "table": [
           {
            "cells": {
             "fill": {
              "color": "#EBF0F8"
             },
             "line": {
              "color": "white"
             }
            },
            "header": {
             "fill": {
              "color": "#C8D4E3"
             },
             "line": {
              "color": "white"
             }
            },
            "type": "table"
           }
          ]
         },
         "layout": {
          "annotationdefaults": {
           "arrowcolor": "#2a3f5f",
           "arrowhead": 0,
           "arrowwidth": 1
          },
          "autotypenumbers": "strict",
          "coloraxis": {
           "colorbar": {
            "outlinewidth": 0,
            "ticks": ""
           }
          },
          "colorscale": {
           "diverging": [
            [
             0,
             "#8e0152"
            ],
            [
             0.1,
             "#c51b7d"
            ],
            [
             0.2,
             "#de77ae"
            ],
            [
             0.3,
             "#f1b6da"
            ],
            [
             0.4,
             "#fde0ef"
            ],
            [
             0.5,
             "#f7f7f7"
            ],
            [
             0.6,
             "#e6f5d0"
            ],
            [
             0.7,
             "#b8e186"
            ],
            [
             0.8,
             "#7fbc41"
            ],
            [
             0.9,
             "#4d9221"
            ],
            [
             1,
             "#276419"
            ]
           ],
           "sequential": [
            [
             0,
             "#0d0887"
            ],
            [
             0.1111111111111111,
             "#46039f"
            ],
            [
             0.2222222222222222,
             "#7201a8"
            ],
            [
             0.3333333333333333,
             "#9c179e"
            ],
            [
             0.4444444444444444,
             "#bd3786"
            ],
            [
             0.5555555555555556,
             "#d8576b"
            ],
            [
             0.6666666666666666,
             "#ed7953"
            ],
            [
             0.7777777777777778,
             "#fb9f3a"
            ],
            [
             0.8888888888888888,
             "#fdca26"
            ],
            [
             1,
             "#f0f921"
            ]
           ],
           "sequentialminus": [
            [
             0,
             "#0d0887"
            ],
            [
             0.1111111111111111,
             "#46039f"
            ],
            [
             0.2222222222222222,
             "#7201a8"
            ],
            [
             0.3333333333333333,
             "#9c179e"
            ],
            [
             0.4444444444444444,
             "#bd3786"
            ],
            [
             0.5555555555555556,
             "#d8576b"
            ],
            [
             0.6666666666666666,
             "#ed7953"
            ],
            [
             0.7777777777777778,
             "#fb9f3a"
            ],
            [
             0.8888888888888888,
             "#fdca26"
            ],
            [
             1,
             "#f0f921"
            ]
           ]
          },
          "colorway": [
           "#636efa",
           "#EF553B",
           "#00cc96",
           "#ab63fa",
           "#FFA15A",
           "#19d3f3",
           "#FF6692",
           "#B6E880",
           "#FF97FF",
           "#FECB52"
          ],
          "font": {
           "color": "#2a3f5f"
          },
          "geo": {
           "bgcolor": "white",
           "lakecolor": "white",
           "landcolor": "#E5ECF6",
           "showlakes": true,
           "showland": true,
           "subunitcolor": "white"
          },
          "hoverlabel": {
           "align": "left"
          },
          "hovermode": "closest",
          "mapbox": {
           "style": "light"
          },
          "paper_bgcolor": "white",
          "plot_bgcolor": "#E5ECF6",
          "polar": {
           "angularaxis": {
            "gridcolor": "white",
            "linecolor": "white",
            "ticks": ""
           },
           "bgcolor": "#E5ECF6",
           "radialaxis": {
            "gridcolor": "white",
            "linecolor": "white",
            "ticks": ""
           }
          },
          "scene": {
           "xaxis": {
            "backgroundcolor": "#E5ECF6",
            "gridcolor": "white",
            "gridwidth": 2,
            "linecolor": "white",
            "showbackground": true,
            "ticks": "",
            "zerolinecolor": "white"
           },
           "yaxis": {
            "backgroundcolor": "#E5ECF6",
            "gridcolor": "white",
            "gridwidth": 2,
            "linecolor": "white",
            "showbackground": true,
            "ticks": "",
            "zerolinecolor": "white"
           },
           "zaxis": {
            "backgroundcolor": "#E5ECF6",
            "gridcolor": "white",
            "gridwidth": 2,
            "linecolor": "white",
            "showbackground": true,
            "ticks": "",
            "zerolinecolor": "white"
           }
          },
          "shapedefaults": {
           "line": {
            "color": "#2a3f5f"
           }
          },
          "ternary": {
           "aaxis": {
            "gridcolor": "white",
            "linecolor": "white",
            "ticks": ""
           },
           "baxis": {
            "gridcolor": "white",
            "linecolor": "white",
            "ticks": ""
           },
           "bgcolor": "#E5ECF6",
           "caxis": {
            "gridcolor": "white",
            "linecolor": "white",
            "ticks": ""
           }
          },
          "title": {
           "x": 0.05
          },
          "xaxis": {
           "automargin": true,
           "gridcolor": "white",
           "linecolor": "white",
           "ticks": "",
           "title": {
            "standoff": 15
           },
           "zerolinecolor": "white",
           "zerolinewidth": 2
          },
          "yaxis": {
           "automargin": true,
           "gridcolor": "white",
           "linecolor": "white",
           "ticks": "",
           "title": {
            "standoff": 15
           },
           "zerolinecolor": "white",
           "zerolinewidth": 2
          }
         }
        }
       }
      },
      "text/html": [
       "<div>                            <div id=\"12bf025c-50d7-49bc-bd2a-4a1d158176fa\" class=\"plotly-graph-div\" style=\"height:525px; width:100%;\"></div>            <script type=\"text/javascript\">                require([\"plotly\"], function(Plotly) {                    window.PLOTLYENV=window.PLOTLYENV || {};                                    if (document.getElementById(\"12bf025c-50d7-49bc-bd2a-4a1d158176fa\")) {                    Plotly.newPlot(                        \"12bf025c-50d7-49bc-bd2a-4a1d158176fa\",                        [{\"marker\":{\"color\":\"pink\"},\"mode\":\"markers\",\"name\":\"Diabetic\",\"x\":[148.0,137.0,78.0,197.0,189.0,166.0,118.0,115.0,119.0,143.0,125.0,158.0,102.0,90.0,111.0,171.0,180.0,103.0,176.0,187.0,109.0,100.0,136.0,122.0,95.0,171.0,155.0,160.0,162.0,88.0,117.0,173.0,170.0,156.0,152.0,163.0,104.0,134.0,179.0,129.0,194.0,181.0,128.0,109.0,139.0,158.0,107.0,109.0,148.0,196.0,184.0,140.0,112.0,151.0,109.0,85.0,177.0,162.0,134.0,181.0,179.0,164.0,119.0,184.0,92.0,113.0,155.0,101.0,106.0,119.0,107.0,128.0,128.0,146.0,100.0,144.0,161.0,128.0,124.0,155.0,109.0,112.0,124.0,152.0,122.0,102.0,152.0,125.0,196.0,189.0,133.0,173.0,140.0,116.0,105.0,144.0,131.0,193.0,136.0,172.0,138.0,173.0,144.0,129.0,151.0,184.0,181.0,95.0,189.0,117.0,180.0,104.0,175.0,148.0,105.0,158.0,135.0,125.0,195.0,180.0,84.0,163.0,145.0,129.0,100.0,128.0,90.0,186.0,187.0,198.0,121.0,197.0,151.0,124.0,176.0,111.0,188.0,150.0,181.0,174.0,168.0,138.0,112.0,97.0,167.0,179.0,136.0,155.0,80.0,199.0,167.0,145.0,115.0,145.0,111.0,162.0,144.0,129.0,142.0,169.0,125.0,168.0,93.0,129.0,187.0,173.0,97.0,149.0,130.0,174.0,120.0,147.0,187.0,181.0,154.0,128.0,170.0],\"y\":[33.6,43.1,31.0,30.5,30.1,25.8,45.8,34.6,29.0,36.6,31.1,31.6,32.9,38.2,37.1,45.4,42.0,39.1,33.7,37.7,32.5,32.9,37.1,49.7,37.4,33.3,34.0,30.5,53.2,55.0,34.5,29.7,34.5,34.3,50.0,40.9,29.9,35.4,32.7,67.1,35.9,30.1,32.0,27.9,31.6,39.4,22.9,34.8,30.9,37.5,35.5,42.6,34.2,41.8,35.8,29.0,34.6,37.2,46.2,35.9,44.1,30.8,27.1,30.0,27.6,33.6,33.3,45.6,26.5,45.6,36.6,43.3,40.5,28.0,36.6,31.6,25.5,30.5,32.9,26.6,35.9,31.6,27.4,26.8,35.1,45.5,34.2,33.3,36.5,31.2,32.8,38.4,39.2,32.3,43.3,32.0,34.3,34.9,35.0,42.4,34.6,35.7,38.5,26.4,42.9,37.0,34.1,35.0,34.3,29.7,59.4,33.6,33.6,37.6,33.7,35.5,42.3,28.9,25.1,36.5,29.7,31.6,30.3,36.4,39.4,32.4,34.9,34.5,43.6,41.3,34.3,34.7,42.1,28.7,33.3,46.8,32.0,35.2,40.0,32.9,38.2,36.1,28.2,40.9,23.4,37.8,28.3,38.7,34.2,42.9,37.6,37.9,33.7,32.5,27.5,49.6,46.1,38.5,30.4,29.9,27.6,35.0,38.0,41.2,33.9,33.8,35.6,29.3,28.4,44.5,42.3,49.3,36.4,43.3,32.4,36.5,44.0],\"z\":[50,33,26,53,59,51,31,32,29,51,41,28,46,27,56,54,25,31,58,41,38,28,43,31,24,24,46,39,25,26,40,33,30,42,36,47,41,29,36,26,41,60,33,31,25,29,23,26,29,57,41,24,36,38,25,32,21,24,46,51,23,32,33,49,44,21,51,38,29,29,25,31,24,29,46,25,47,25,30,27,43,25,36,43,30,23,33,28,29,29,45,25,58,35,45,58,22,25,35,28,21,22,37,28,36,31,38,43,41,30,25,22,38,51,29,35,24,45,55,35,46,28,53,32,43,27,56,37,53,28,33,62,21,52,52,45,22,54,22,36,40,50,50,32,33,22,42,25,27,22,43,40,40,70,40,26,46,43,43,31,49,52,23,38,34,31,52,42,34,24,48,27,36,26,45,37,43],\"type\":\"scatter3d\"},{\"marker\":{\"color\":\"purple\"},\"mode\":\"markers\",\"name\":\"Non Diabetic\",\"x\":[85.0,89.0,103.0,126.0,97.0,145.0,109.0,88.0,122.0,103.0,180.0,106.0,71.0,103.0,101.0,88.0,150.0,73.0,100.0,105.0,141.0,99.0,95.0,146.0,139.0,129.0,79.0,95.0,112.0,113.0,83.0,101.0,110.0,106.0,100.0,107.0,123.0,81.0,142.0,144.0,92.0,71.0,93.0,81.0,126.0,144.0,83.0,89.0,97.0,99.0,111.0,107.0,120.0,118.0,84.0,96.0,125.0,100.0,93.0,105.0,106.0,108.0,154.0,57.0,106.0,90.0,136.0,153.0,99.0,109.0,88.0,151.0,102.0,114.0,100.0,148.0,111.0,79.0,75.0,119.0,123.0,85.0,113.0,108.0,99.0,103.0,111.0,96.0,81.0,147.0,179.0,125.0,142.0,100.0,87.0,197.0,117.0,79.0,74.0,91.0,91.0,146.0,165.0,124.0,111.0,90.0,86.0,111.0,114.0,193.0,191.0,95.0,142.0,96.0,128.0,108.0,71.0,100.0,104.0,108.0,129.0,133.0,136.0,155.0,96.0,108.0,78.0,151.0,126.0,77.0,120.0,137.0,80.0,106.0,113.0,112.0,99.0,115.0,129.0,112.0,157.0,105.0,118.0,87.0,95.0,165.0,130.0,95.0,126.0,139.0,99.0,61.0,90.0,88.0,103.0,147.0,99.0,101.0,81.0,84.0,105.0,122.0,98.0,87.0,93.0,107.0,105.0,109.0,90.0,125.0,119.0,100.0,100.0,131.0,116.0,127.0,96.0,72.0,123.0,102.0,112.0,143.0,143.0,97.0,119.0,94.0,102.0,115.0,135.0,89.0,80.0,90.0,140.0,97.0,83.0,117.0,100.0,95.0,120.0,82.0,91.0,100.0,86.0,134.0,120.0,74.0,88.0,124.0,74.0,97.0,154.0,144.0,137.0,119.0,137.0,114.0,126.0,132.0,123.0,85.0,84.0,139.0,173.0,99.0,83.0,89.0,99.0,81.0,154.0,117.0,84.0,94.0,96.0,130.0,84.0,139.0,99.0,129.0,68.0,124.0,87.0,97.0,116.0,117.0,122.0,86.0,77.0,127.0,84.0,88.0,131.0,164.0,189.0,116.0,84.0,88.0,84.0,124.0,97.0,103.0,87.0,99.0,95.0,99.0,92.0,154.0,111.0,98.0,143.0,119.0,108.0,109.0,121.0,93.0,112.0,82.0,123.0,89.0,109.0,108.0,124.0,124.0,92.0,152.0,111.0,106.0,105.0,68.0,112.0,92.0,94.0,90.0,94.0,102.0,128.0,94.0,100.0,102.0,103.0,157.0,107.0,91.0,117.0,123.0,106.0,101.0,120.0,112.0,98.0,154.0,165.0,99.0,68.0,123.0,101.0,56.0,95.0,129.0,107.0,140.0,121.0,127.0,122.0,110.0,80.0,127.0,158.0,126.0,134.0,94.0,108.0,83.0,114.0,117.0,112.0,116.0,141.0,106.0,95.0,126.0,65.0,99.0,102.0,109.0,153.0,100.0,81.0,121.0,108.0,137.0,88.0,101.0,122.0,121.0,93.0],\"y\":[26.6,28.1,43.3,39.3,23.2,22.2,36.0,24.8,27.6,24.0,34.0,22.7,28.0,19.4,24.2,24.4,34.7,23.0,46.8,41.5,25.4,29.0,19.6,28.9,28.6,35.1,32.0,37.7,25.0,22.4,29.3,24.6,32.4,36.6,38.5,26.5,32.0,46.7,24.7,33.9,31.6,20.4,28.7,26.6,28.7,29.5,34.3,31.2,28.2,23.2,34.2,33.6,42.9,33.3,38.3,21.1,33.8,30.8,28.7,36.9,39.5,32.5,32.8,32.8,30.5,27.3,37.4,40.6,24.6,25.2,29.0,29.7,37.2,44.2,29.7,32.5,28.4,43.5,29.7,34.9,33.1,24.4,31.0,27.3,20.4,37.7,23.9,33.2,27.7,42.8,34.2,30.0,28.8,23.6,34.6,36.7,45.2,25.4,29.7,29.2,33.1,38.2,52.3,35.4,30.1,24.4,35.8,30.1,28.7,25.9,30.9,32.1,32.4,33.6,40.0,25.2,33.2,40.5,27.8,25.3,35.9,32.4,26.0,38.7,20.8,36.1,36.9,35.5,30.7,35.8,39.7,24.8,26.2,39.4,29.5,34.1,19.3,38.1,27.5,35.7,25.6,30.8,23.1,32.7,23.9,47.9,25.9,25.9,38.5,28.7,21.8,34.4,27.2,35.3,39.2,34.9,34.0,21.0,27.5,35.8,34.9,36.2,25.2,37.2,43.4,30.8,20.0,25.4,25.1,24.3,22.3,31.6,32.0,23.7,22.1,27.7,24.7,31.6,42.1,35.7,34.4,42.4,26.2,27.2,45.3,26.0,40.6,30.8,40.6,30.4,30.0,24.5,37.4,18.2,32.2,33.2,25.3,36.5,30.5,21.2,39.9,37.8,30.2,25.9,20.8,35.3,27.6,21.8,27.8,36.8,46.1,41.3,33.2,38.8,27.3,23.8,25.9,28.0,35.2,27.8,38.2,40.7,46.5,25.6,36.8,33.5,32.8,30.1,29.3,25.2,37.2,33.3,37.3,28.6,30.4,22.1,25.6,19.6,25.0,33.2,21.8,18.2,26.3,30.8,29.8,41.3,33.3,36.3,39.5,32.0,33.1,32.8,28.5,27.4,31.9,29.9,36.9,25.5,38.1,46.2,37.6,26.9,26.1,38.6,32.0,31.3,29.5,34.7,30.1,35.5,24.0,25.0,26.5,22.5,39.4,28.5,33.6,27.8,23.1,27.1,27.8,35.8,19.5,41.5,24.0,30.9,32.5,20.1,38.4,24.2,43.5,37.7,24.7,34.5,27.5,31.6,19.5,29.3,27.6,39.4,26.4,25.2,33.8,34.1,34.2,21.8,38.9,34.8,34.0,30.9,33.6,25.4,35.5,57.3,24.2,24.2,44.6,33.2,28.3,24.1,39.1,34.5,35.9,28.4,39.8,34.4,31.2,29.6,26.4,23.1,35.5,29.3,38.1,39.1,39.4,36.1,32.4,29.0,35.4,27.4,32.0,36.6,30.8,28.5,40.6,30.0,46.3,39.0,26.0,32.0,28.4,32.9,36.8,26.2,30.4],\"z\":[31,21,33,27,22,57,60,22,45,33,26,48,22,22,26,30,42,21,31,22,24,32,25,27,26,23,22,27,24,22,36,22,27,45,26,24,34,42,21,40,24,22,23,24,21,37,25,23,22,21,24,23,30,23,39,26,31,21,22,28,38,22,23,41,34,22,24,23,21,23,22,36,45,27,21,22,29,23,33,23,40,42,21,32,27,55,27,21,25,24,60,32,61,26,22,31,24,22,23,21,22,29,23,34,23,24,25,30,25,24,34,24,63,43,24,21,21,25,23,22,39,37,51,34,26,33,21,28,24,35,29,21,41,22,25,26,30,28,31,21,24,37,46,25,22,26,22,36,49,22,26,46,24,48,65,30,30,21,22,21,25,28,22,22,35,24,22,21,25,25,24,28,42,21,37,25,39,38,26,28,25,22,21,22,26,21,21,21,26,38,22,36,41,21,22,24,28,26,26,23,25,24,24,81,48,39,37,21,22,25,27,28,22,22,59,31,39,63,29,28,23,21,58,28,24,42,33,25,39,21,28,41,40,21,21,21,24,60,25,26,21,21,24,22,22,29,24,23,25,29,28,50,37,21,25,23,28,37,30,42,24,32,22,21,46,37,22,22,23,25,35,27,62,22,24,25,34,21,26,24,30,21,25,27,23,24,26,23,28,28,21,29,21,24,22,23,28,27,27,30,23,23,27,28,22,22,41,24,43,45,49,21,47,22,23,22,22,25,29,23,23,28,26,27,28,22,24,40,21,56,24,34,21,42,38,25,22,22,28,21,42,21,26,22,39,46,32,28,25,39,22,63,27,30,23],\"type\":\"scatter3d\"}],                        {\"template\":{\"data\":{\"bar\":[{\"error_x\":{\"color\":\"#2a3f5f\"},\"error_y\":{\"color\":\"#2a3f5f\"},\"marker\":{\"line\":{\"color\":\"#E5ECF6\",\"width\":0.5},\"pattern\":{\"fillmode\":\"overlay\",\"size\":10,\"solidity\":0.2}},\"type\":\"bar\"}],\"barpolar\":[{\"marker\":{\"line\":{\"color\":\"#E5ECF6\",\"width\":0.5},\"pattern\":{\"fillmode\":\"overlay\",\"size\":10,\"solidity\":0.2}},\"type\":\"barpolar\"}],\"carpet\":[{\"aaxis\":{\"endlinecolor\":\"#2a3f5f\",\"gridcolor\":\"white\",\"linecolor\":\"white\",\"minorgridcolor\":\"white\",\"startlinecolor\":\"#2a3f5f\"},\"baxis\":{\"endlinecolor\":\"#2a3f5f\",\"gridcolor\":\"white\",\"linecolor\":\"white\",\"minorgridcolor\":\"white\",\"startlinecolor\":\"#2a3f5f\"},\"type\":\"carpet\"}],\"choropleth\":[{\"colorbar\":{\"outlinewidth\":0,\"ticks\":\"\"},\"type\":\"choropleth\"}],\"contour\":[{\"colorbar\":{\"outlinewidth\":0,\"ticks\":\"\"},\"colorscale\":[[0.0,\"#0d0887\"],[0.1111111111111111,\"#46039f\"],[0.2222222222222222,\"#7201a8\"],[0.3333333333333333,\"#9c179e\"],[0.4444444444444444,\"#bd3786\"],[0.5555555555555556,\"#d8576b\"],[0.6666666666666666,\"#ed7953\"],[0.7777777777777778,\"#fb9f3a\"],[0.8888888888888888,\"#fdca26\"],[1.0,\"#f0f921\"]],\"type\":\"contour\"}],\"contourcarpet\":[{\"colorbar\":{\"outlinewidth\":0,\"ticks\":\"\"},\"type\":\"contourcarpet\"}],\"heatmap\":[{\"colorbar\":{\"outlinewidth\":0,\"ticks\":\"\"},\"colorscale\":[[0.0,\"#0d0887\"],[0.1111111111111111,\"#46039f\"],[0.2222222222222222,\"#7201a8\"],[0.3333333333333333,\"#9c179e\"],[0.4444444444444444,\"#bd3786\"],[0.5555555555555556,\"#d8576b\"],[0.6666666666666666,\"#ed7953\"],[0.7777777777777778,\"#fb9f3a\"],[0.8888888888888888,\"#fdca26\"],[1.0,\"#f0f921\"]],\"type\":\"heatmap\"}],\"heatmapgl\":[{\"colorbar\":{\"outlinewidth\":0,\"ticks\":\"\"},\"colorscale\":[[0.0,\"#0d0887\"],[0.1111111111111111,\"#46039f\"],[0.2222222222222222,\"#7201a8\"],[0.3333333333333333,\"#9c179e\"],[0.4444444444444444,\"#bd3786\"],[0.5555555555555556,\"#d8576b\"],[0.6666666666666666,\"#ed7953\"],[0.7777777777777778,\"#fb9f3a\"],[0.8888888888888888,\"#fdca26\"],[1.0,\"#f0f921\"]],\"type\":\"heatmapgl\"}],\"histogram\":[{\"marker\":{\"pattern\":{\"fillmode\":\"overlay\",\"size\":10,\"solidity\":0.2}},\"type\":\"histogram\"}],\"histogram2d\":[{\"colorbar\":{\"outlinewidth\":0,\"ticks\":\"\"},\"colorscale\":[[0.0,\"#0d0887\"],[0.1111111111111111,\"#46039f\"],[0.2222222222222222,\"#7201a8\"],[0.3333333333333333,\"#9c179e\"],[0.4444444444444444,\"#bd3786\"],[0.5555555555555556,\"#d8576b\"],[0.6666666666666666,\"#ed7953\"],[0.7777777777777778,\"#fb9f3a\"],[0.8888888888888888,\"#fdca26\"],[1.0,\"#f0f921\"]],\"type\":\"histogram2d\"}],\"histogram2dcontour\":[{\"colorbar\":{\"outlinewidth\":0,\"ticks\":\"\"},\"colorscale\":[[0.0,\"#0d0887\"],[0.1111111111111111,\"#46039f\"],[0.2222222222222222,\"#7201a8\"],[0.3333333333333333,\"#9c179e\"],[0.4444444444444444,\"#bd3786\"],[0.5555555555555556,\"#d8576b\"],[0.6666666666666666,\"#ed7953\"],[0.7777777777777778,\"#fb9f3a\"],[0.8888888888888888,\"#fdca26\"],[1.0,\"#f0f921\"]],\"type\":\"histogram2dcontour\"}],\"mesh3d\":[{\"colorbar\":{\"outlinewidth\":0,\"ticks\":\"\"},\"type\":\"mesh3d\"}],\"parcoords\":[{\"line\":{\"colorbar\":{\"outlinewidth\":0,\"ticks\":\"\"}},\"type\":\"parcoords\"}],\"pie\":[{\"automargin\":true,\"type\":\"pie\"}],\"scatter\":[{\"marker\":{\"colorbar\":{\"outlinewidth\":0,\"ticks\":\"\"}},\"type\":\"scatter\"}],\"scatter3d\":[{\"line\":{\"colorbar\":{\"outlinewidth\":0,\"ticks\":\"\"}},\"marker\":{\"colorbar\":{\"outlinewidth\":0,\"ticks\":\"\"}},\"type\":\"scatter3d\"}],\"scattercarpet\":[{\"marker\":{\"colorbar\":{\"outlinewidth\":0,\"ticks\":\"\"}},\"type\":\"scattercarpet\"}],\"scattergeo\":[{\"marker\":{\"colorbar\":{\"outlinewidth\":0,\"ticks\":\"\"}},\"type\":\"scattergeo\"}],\"scattergl\":[{\"marker\":{\"colorbar\":{\"outlinewidth\":0,\"ticks\":\"\"}},\"type\":\"scattergl\"}],\"scattermapbox\":[{\"marker\":{\"colorbar\":{\"outlinewidth\":0,\"ticks\":\"\"}},\"type\":\"scattermapbox\"}],\"scatterpolar\":[{\"marker\":{\"colorbar\":{\"outlinewidth\":0,\"ticks\":\"\"}},\"type\":\"scatterpolar\"}],\"scatterpolargl\":[{\"marker\":{\"colorbar\":{\"outlinewidth\":0,\"ticks\":\"\"}},\"type\":\"scatterpolargl\"}],\"scatterternary\":[{\"marker\":{\"colorbar\":{\"outlinewidth\":0,\"ticks\":\"\"}},\"type\":\"scatterternary\"}],\"surface\":[{\"colorbar\":{\"outlinewidth\":0,\"ticks\":\"\"},\"colorscale\":[[0.0,\"#0d0887\"],[0.1111111111111111,\"#46039f\"],[0.2222222222222222,\"#7201a8\"],[0.3333333333333333,\"#9c179e\"],[0.4444444444444444,\"#bd3786\"],[0.5555555555555556,\"#d8576b\"],[0.6666666666666666,\"#ed7953\"],[0.7777777777777778,\"#fb9f3a\"],[0.8888888888888888,\"#fdca26\"],[1.0,\"#f0f921\"]],\"type\":\"surface\"}],\"table\":[{\"cells\":{\"fill\":{\"color\":\"#EBF0F8\"},\"line\":{\"color\":\"white\"}},\"header\":{\"fill\":{\"color\":\"#C8D4E3\"},\"line\":{\"color\":\"white\"}},\"type\":\"table\"}]},\"layout\":{\"annotationdefaults\":{\"arrowcolor\":\"#2a3f5f\",\"arrowhead\":0,\"arrowwidth\":1},\"autotypenumbers\":\"strict\",\"coloraxis\":{\"colorbar\":{\"outlinewidth\":0,\"ticks\":\"\"}},\"colorscale\":{\"diverging\":[[0,\"#8e0152\"],[0.1,\"#c51b7d\"],[0.2,\"#de77ae\"],[0.3,\"#f1b6da\"],[0.4,\"#fde0ef\"],[0.5,\"#f7f7f7\"],[0.6,\"#e6f5d0\"],[0.7,\"#b8e186\"],[0.8,\"#7fbc41\"],[0.9,\"#4d9221\"],[1,\"#276419\"]],\"sequential\":[[0.0,\"#0d0887\"],[0.1111111111111111,\"#46039f\"],[0.2222222222222222,\"#7201a8\"],[0.3333333333333333,\"#9c179e\"],[0.4444444444444444,\"#bd3786\"],[0.5555555555555556,\"#d8576b\"],[0.6666666666666666,\"#ed7953\"],[0.7777777777777778,\"#fb9f3a\"],[0.8888888888888888,\"#fdca26\"],[1.0,\"#f0f921\"]],\"sequentialminus\":[[0.0,\"#0d0887\"],[0.1111111111111111,\"#46039f\"],[0.2222222222222222,\"#7201a8\"],[0.3333333333333333,\"#9c179e\"],[0.4444444444444444,\"#bd3786\"],[0.5555555555555556,\"#d8576b\"],[0.6666666666666666,\"#ed7953\"],[0.7777777777777778,\"#fb9f3a\"],[0.8888888888888888,\"#fdca26\"],[1.0,\"#f0f921\"]]},\"colorway\":[\"#636efa\",\"#EF553B\",\"#00cc96\",\"#ab63fa\",\"#FFA15A\",\"#19d3f3\",\"#FF6692\",\"#B6E880\",\"#FF97FF\",\"#FECB52\"],\"font\":{\"color\":\"#2a3f5f\"},\"geo\":{\"bgcolor\":\"white\",\"lakecolor\":\"white\",\"landcolor\":\"#E5ECF6\",\"showlakes\":true,\"showland\":true,\"subunitcolor\":\"white\"},\"hoverlabel\":{\"align\":\"left\"},\"hovermode\":\"closest\",\"mapbox\":{\"style\":\"light\"},\"paper_bgcolor\":\"white\",\"plot_bgcolor\":\"#E5ECF6\",\"polar\":{\"angularaxis\":{\"gridcolor\":\"white\",\"linecolor\":\"white\",\"ticks\":\"\"},\"bgcolor\":\"#E5ECF6\",\"radialaxis\":{\"gridcolor\":\"white\",\"linecolor\":\"white\",\"ticks\":\"\"}},\"scene\":{\"xaxis\":{\"backgroundcolor\":\"#E5ECF6\",\"gridcolor\":\"white\",\"gridwidth\":2,\"linecolor\":\"white\",\"showbackground\":true,\"ticks\":\"\",\"zerolinecolor\":\"white\"},\"yaxis\":{\"backgroundcolor\":\"#E5ECF6\",\"gridcolor\":\"white\",\"gridwidth\":2,\"linecolor\":\"white\",\"showbackground\":true,\"ticks\":\"\",\"zerolinecolor\":\"white\"},\"zaxis\":{\"backgroundcolor\":\"#E5ECF6\",\"gridcolor\":\"white\",\"gridwidth\":2,\"linecolor\":\"white\",\"showbackground\":true,\"ticks\":\"\",\"zerolinecolor\":\"white\"}},\"shapedefaults\":{\"line\":{\"color\":\"#2a3f5f\"}},\"ternary\":{\"aaxis\":{\"gridcolor\":\"white\",\"linecolor\":\"white\",\"ticks\":\"\"},\"baxis\":{\"gridcolor\":\"white\",\"linecolor\":\"white\",\"ticks\":\"\"},\"bgcolor\":\"#E5ECF6\",\"caxis\":{\"gridcolor\":\"white\",\"linecolor\":\"white\",\"ticks\":\"\"}},\"title\":{\"x\":0.05},\"xaxis\":{\"automargin\":true,\"gridcolor\":\"white\",\"linecolor\":\"white\",\"ticks\":\"\",\"title\":{\"standoff\":15},\"zerolinecolor\":\"white\",\"zerolinewidth\":2},\"yaxis\":{\"automargin\":true,\"gridcolor\":\"white\",\"linecolor\":\"white\",\"ticks\":\"\",\"title\":{\"standoff\":15},\"zerolinecolor\":\"white\",\"zerolinewidth\":2}}}},                        {\"responsive\": true}                    ).then(function(){\n",
       "                            \n",
       "var gd = document.getElementById('12bf025c-50d7-49bc-bd2a-4a1d158176fa');\n",
       "var x = new MutationObserver(function (mutations, observer) {{\n",
       "        var display = window.getComputedStyle(gd).display;\n",
       "        if (!display || display === 'none') {{\n",
       "            console.log([gd, 'removed!']);\n",
       "            Plotly.purge(gd);\n",
       "            observer.disconnect();\n",
       "        }}\n",
       "}});\n",
       "\n",
       "// Listen for the removal of the full notebook cells\n",
       "var notebookContainer = gd.closest('#notebook-container');\n",
       "if (notebookContainer) {{\n",
       "    x.observe(notebookContainer, {childList: true});\n",
       "}}\n",
       "\n",
       "// Listen for the clearing of the current output cell\n",
       "var outputEl = gd.closest('.output');\n",
       "if (outputEl) {{\n",
       "    x.observe(outputEl, {childList: true});\n",
       "}}\n",
       "\n",
       "                        })                };                });            </script>        </div>"
      ]
     },
     "metadata": {},
     "output_type": "display_data"
    }
   ],
   "source": [
    "#split -> df_y for diabetic and df_n for non diabetic\n",
    "df_y = data.loc[data[\"Outcome\"] ==1, [\"Glucose\",\"BMI\", \"Age\"]]\n",
    "df_n = data.loc[data[\"Outcome\"] ==0, [\"Glucose\",\"BMI\", \"Age\"]]\n",
    "\n",
    "fig = go.Figure()\n",
    "fig.add_trace(go.Scatter3d(x=df_y['Glucose'], y=df_y['BMI'], z=df_y['Age'],mode='markers',marker=dict(color=\"pink\"),name='Diabetic'))\n",
    "fig.add_trace(go.Scatter3d(x=df_n['Glucose'], y=df_n['BMI'], z=df_n['Age'],mode='markers',marker=dict(color=\"purple\"),name='Non Diabetic'))\n",
    "\n",
    "fig.show()"
   ]
  },
  {
   "cell_type": "code",
   "execution_count": 292,
   "metadata": {},
   "outputs": [
    {
     "data": {
      "application/vnd.plotly.v1+json": {
       "config": {
        "plotlyServerURL": "https://plot.ly"
       },
       "data": [
        {
         "marker": {
          "color": "pink"
         },
         "mode": "markers",
         "name": "Diabetic",
         "type": "scatter3d",
         "x": [
          148,
          137,
          78,
          197,
          189,
          166,
          118,
          115,
          119,
          143,
          125,
          158,
          102,
          90,
          111,
          171,
          180,
          103,
          176,
          187,
          109,
          100,
          136,
          122,
          95,
          171,
          155,
          160,
          162,
          88,
          117,
          173,
          170,
          156,
          152,
          163,
          104,
          134,
          179,
          129,
          194,
          181,
          128,
          109,
          139,
          158,
          107,
          109,
          148,
          196,
          184,
          140,
          112,
          151,
          109,
          85,
          177,
          162,
          134,
          181,
          179,
          164,
          119,
          184,
          92,
          113,
          155,
          101,
          106,
          119,
          107,
          128,
          128,
          146,
          100,
          144,
          161,
          128,
          124,
          155,
          109,
          112,
          124,
          152,
          122,
          102,
          152,
          125,
          196,
          189,
          133,
          173,
          140,
          116,
          105,
          144,
          131,
          193,
          136,
          172,
          138,
          173,
          144,
          129,
          151,
          184,
          181,
          95,
          189,
          117,
          180,
          104,
          175,
          148,
          105,
          158,
          135,
          125,
          195,
          180,
          84,
          163,
          145,
          129,
          100,
          128,
          90,
          186,
          187,
          198,
          121,
          197,
          151,
          124,
          176,
          111,
          188,
          150,
          181,
          174,
          168,
          138,
          112,
          97,
          167,
          179,
          136,
          155,
          80,
          199,
          167,
          145,
          115,
          145,
          111,
          162,
          144,
          129,
          142,
          169,
          125,
          168,
          93,
          129,
          187,
          173,
          97,
          149,
          130,
          174,
          120,
          147,
          187,
          181,
          154,
          128,
          170
         ],
         "y": [
          33.6,
          43.1,
          31,
          30.5,
          30.1,
          25.8,
          45.8,
          34.6,
          29,
          36.6,
          31.1,
          31.6,
          32.9,
          38.2,
          37.1,
          45.4,
          42,
          39.1,
          33.7,
          37.7,
          32.5,
          32.9,
          37.1,
          49.7,
          37.4,
          33.3,
          34,
          30.5,
          53.2,
          55,
          34.5,
          29.7,
          34.5,
          34.3,
          50,
          40.9,
          29.9,
          35.4,
          32.7,
          67.1,
          35.9,
          30.1,
          32,
          27.9,
          31.6,
          39.4,
          22.9,
          34.8,
          30.9,
          37.5,
          35.5,
          42.6,
          34.2,
          41.8,
          35.8,
          29,
          34.6,
          37.2,
          46.2,
          35.9,
          44.1,
          30.8,
          27.1,
          30,
          27.6,
          33.6,
          33.3,
          45.6,
          26.5,
          45.6,
          36.6,
          43.3,
          40.5,
          28,
          36.6,
          31.6,
          25.5,
          30.5,
          32.9,
          26.6,
          35.9,
          31.6,
          27.4,
          26.8,
          35.1,
          45.5,
          34.2,
          33.3,
          36.5,
          31.2,
          32.8,
          38.4,
          39.2,
          32.3,
          43.3,
          32,
          34.3,
          34.9,
          35,
          42.4,
          34.6,
          35.7,
          38.5,
          26.4,
          42.9,
          37,
          34.1,
          35,
          34.3,
          29.7,
          59.4,
          33.6,
          33.6,
          37.6,
          33.7,
          35.5,
          42.3,
          28.9,
          25.1,
          36.5,
          29.7,
          31.6,
          30.3,
          36.4,
          39.4,
          32.4,
          34.9,
          34.5,
          43.6,
          41.3,
          34.3,
          34.7,
          42.1,
          28.7,
          33.3,
          46.8,
          32,
          35.2,
          40,
          32.9,
          38.2,
          36.1,
          28.2,
          40.9,
          23.4,
          37.8,
          28.3,
          38.7,
          34.2,
          42.9,
          37.6,
          37.9,
          33.7,
          32.5,
          27.5,
          49.6,
          46.1,
          38.5,
          30.4,
          29.9,
          27.6,
          35,
          38,
          41.2,
          33.9,
          33.8,
          35.6,
          29.3,
          28.4,
          44.5,
          42.3,
          49.3,
          36.4,
          43.3,
          32.4,
          36.5,
          44
         ],
         "z": [
          50,
          33,
          26,
          53,
          59,
          51,
          31,
          32,
          29,
          51,
          41,
          28,
          46,
          27,
          56,
          54,
          25,
          31,
          58,
          41,
          38,
          28,
          43,
          31,
          24,
          24,
          46,
          39,
          25,
          26,
          40,
          33,
          30,
          42,
          36,
          47,
          41,
          29,
          36,
          26,
          41,
          60,
          33,
          31,
          25,
          29,
          23,
          26,
          29,
          57,
          41,
          24,
          36,
          38,
          25,
          32,
          21,
          24,
          46,
          51,
          23,
          32,
          33,
          49,
          44,
          21,
          51,
          38,
          29,
          29,
          25,
          31,
          24,
          29,
          46,
          25,
          47,
          25,
          30,
          27,
          43,
          25,
          36,
          43,
          30,
          23,
          33,
          28,
          29,
          29,
          45,
          25,
          58,
          35,
          45,
          58,
          22,
          25,
          35,
          28,
          21,
          22,
          37,
          28,
          36,
          31,
          38,
          43,
          41,
          30,
          25,
          22,
          38,
          51,
          29,
          35,
          24,
          45,
          55,
          35,
          46,
          28,
          53,
          32,
          43,
          27,
          56,
          37,
          53,
          28,
          33,
          62,
          21,
          52,
          52,
          45,
          22,
          54,
          22,
          36,
          40,
          50,
          50,
          32,
          33,
          22,
          42,
          25,
          27,
          22,
          43,
          40,
          40,
          70,
          40,
          26,
          46,
          43,
          43,
          31,
          49,
          52,
          23,
          38,
          34,
          31,
          52,
          42,
          34,
          24,
          48,
          27,
          36,
          26,
          45,
          37,
          43
         ]
        },
        {
         "marker": {
          "color": "purple"
         },
         "mode": "markers",
         "name": "Non Diabetic",
         "type": "scatter3d",
         "x": [
          85,
          89,
          103,
          126,
          97,
          145,
          109,
          88,
          122,
          103,
          180,
          106,
          71,
          103,
          101,
          88,
          150,
          73,
          100,
          105,
          141,
          99,
          95,
          146,
          139,
          129,
          79,
          95,
          112,
          113,
          83,
          101,
          110,
          106,
          100,
          107,
          123,
          81,
          142,
          144,
          92,
          71,
          93,
          81,
          126,
          144,
          83,
          89,
          97,
          99,
          111,
          107,
          120,
          118,
          84,
          96,
          125,
          100,
          93,
          105,
          106,
          108,
          154,
          57,
          106,
          90,
          136,
          153,
          99,
          109,
          88,
          151,
          102,
          114,
          100,
          148,
          111,
          79,
          75,
          119,
          123,
          85,
          113,
          108,
          99,
          103,
          111,
          96,
          81,
          147,
          179,
          125,
          142,
          100,
          87,
          197,
          117,
          79,
          74,
          91,
          91,
          146,
          165,
          124,
          111,
          90,
          86,
          111,
          114,
          193,
          191,
          95,
          142,
          96,
          128,
          108,
          71,
          100,
          104,
          108,
          129,
          133,
          136,
          155,
          96,
          108,
          78,
          151,
          126,
          77,
          120,
          137,
          80,
          106,
          113,
          112,
          99,
          115,
          129,
          112,
          157,
          105,
          118,
          87,
          95,
          165,
          130,
          95,
          126,
          139,
          99,
          61,
          90,
          88,
          103,
          147,
          99,
          101,
          81,
          84,
          105,
          122,
          98,
          87,
          93,
          107,
          105,
          109,
          90,
          125,
          119,
          100,
          100,
          131,
          116,
          127,
          96,
          72,
          123,
          102,
          112,
          143,
          143,
          97,
          119,
          94,
          102,
          115,
          135,
          89,
          80,
          90,
          140,
          97,
          83,
          117,
          100,
          95,
          120,
          82,
          91,
          100,
          86,
          134,
          120,
          74,
          88,
          124,
          74,
          97,
          154,
          144,
          137,
          119,
          137,
          114,
          126,
          132,
          123,
          85,
          84,
          139,
          173,
          99,
          83,
          89,
          99,
          81,
          154,
          117,
          84,
          94,
          96,
          130,
          84,
          139,
          99,
          129,
          68,
          124,
          87,
          97,
          116,
          117,
          122,
          86,
          77,
          127,
          84,
          88,
          131,
          164,
          189,
          116,
          84,
          88,
          84,
          124,
          97,
          103,
          87,
          99,
          95,
          99,
          92,
          154,
          111,
          98,
          143,
          119,
          108,
          109,
          121,
          93,
          112,
          82,
          123,
          89,
          109,
          108,
          124,
          124,
          92,
          152,
          111,
          106,
          105,
          68,
          112,
          92,
          94,
          90,
          94,
          102,
          128,
          94,
          100,
          102,
          103,
          157,
          107,
          91,
          117,
          123,
          106,
          101,
          120,
          112,
          98,
          154,
          165,
          99,
          68,
          123,
          101,
          56,
          95,
          129,
          107,
          140,
          121,
          127,
          122,
          110,
          80,
          127,
          158,
          126,
          134,
          94,
          108,
          83,
          114,
          117,
          112,
          116,
          141,
          106,
          95,
          126,
          65,
          99,
          102,
          109,
          153,
          100,
          81,
          121,
          108,
          137,
          88,
          101,
          122,
          121,
          93
         ],
         "y": [
          26.6,
          28.1,
          43.3,
          39.3,
          23.2,
          22.2,
          36,
          24.8,
          27.6,
          24,
          34,
          22.7,
          28,
          19.4,
          24.2,
          24.4,
          34.7,
          23,
          46.8,
          41.5,
          25.4,
          29,
          19.6,
          28.9,
          28.6,
          35.1,
          32,
          37.7,
          25,
          22.4,
          29.3,
          24.6,
          32.4,
          36.6,
          38.5,
          26.5,
          32,
          46.7,
          24.7,
          33.9,
          31.6,
          20.4,
          28.7,
          26.6,
          28.7,
          29.5,
          34.3,
          31.2,
          28.2,
          23.2,
          34.2,
          33.6,
          42.9,
          33.3,
          38.3,
          21.1,
          33.8,
          30.8,
          28.7,
          36.9,
          39.5,
          32.5,
          32.8,
          32.8,
          30.5,
          27.3,
          37.4,
          40.6,
          24.6,
          25.2,
          29,
          29.7,
          37.2,
          44.2,
          29.7,
          32.5,
          28.4,
          43.5,
          29.7,
          34.9,
          33.1,
          24.4,
          31,
          27.3,
          20.4,
          37.7,
          23.9,
          33.2,
          27.7,
          42.8,
          34.2,
          30,
          28.8,
          23.6,
          34.6,
          36.7,
          45.2,
          25.4,
          29.7,
          29.2,
          33.1,
          38.2,
          52.3,
          35.4,
          30.1,
          24.4,
          35.8,
          30.1,
          28.7,
          25.9,
          30.9,
          32.1,
          32.4,
          33.6,
          40,
          25.2,
          33.2,
          40.5,
          27.8,
          25.3,
          35.9,
          32.4,
          26,
          38.7,
          20.8,
          36.1,
          36.9,
          35.5,
          30.7,
          35.8,
          39.7,
          24.8,
          26.2,
          39.4,
          29.5,
          34.1,
          19.3,
          38.1,
          27.5,
          35.7,
          25.6,
          30.8,
          23.1,
          32.7,
          23.9,
          47.9,
          25.9,
          25.9,
          38.5,
          28.7,
          21.8,
          34.4,
          27.2,
          35.3,
          39.2,
          34.9,
          34,
          21,
          27.5,
          35.8,
          34.9,
          36.2,
          25.2,
          37.2,
          43.4,
          30.8,
          20,
          25.4,
          25.1,
          24.3,
          22.3,
          31.6,
          32,
          23.7,
          22.1,
          27.7,
          24.7,
          31.6,
          42.1,
          35.7,
          34.4,
          42.4,
          26.2,
          27.2,
          45.3,
          26,
          40.6,
          30.8,
          40.6,
          30.4,
          30,
          24.5,
          37.4,
          18.2,
          32.2,
          33.2,
          25.3,
          36.5,
          30.5,
          21.2,
          39.9,
          37.8,
          30.2,
          25.9,
          20.8,
          35.3,
          27.6,
          21.8,
          27.8,
          36.8,
          46.1,
          41.3,
          33.2,
          38.8,
          27.3,
          23.8,
          25.9,
          28,
          35.2,
          27.8,
          38.2,
          40.7,
          46.5,
          25.6,
          36.8,
          33.5,
          32.8,
          30.1,
          29.3,
          25.2,
          37.2,
          33.3,
          37.3,
          28.6,
          30.4,
          22.1,
          25.6,
          19.6,
          25,
          33.2,
          21.8,
          18.2,
          26.3,
          30.8,
          29.8,
          41.3,
          33.3,
          36.3,
          39.5,
          32,
          33.1,
          32.8,
          28.5,
          27.4,
          31.9,
          29.9,
          36.9,
          25.5,
          38.1,
          46.2,
          37.6,
          26.9,
          26.1,
          38.6,
          32,
          31.3,
          29.5,
          34.7,
          30.1,
          35.5,
          24,
          25,
          26.5,
          22.5,
          39.4,
          28.5,
          33.6,
          27.8,
          23.1,
          27.1,
          27.8,
          35.8,
          19.5,
          41.5,
          24,
          30.9,
          32.5,
          20.1,
          38.4,
          24.2,
          43.5,
          37.7,
          24.7,
          34.5,
          27.5,
          31.6,
          19.5,
          29.3,
          27.6,
          39.4,
          26.4,
          25.2,
          33.8,
          34.1,
          34.2,
          21.8,
          38.9,
          34.8,
          34,
          30.9,
          33.6,
          25.4,
          35.5,
          57.3,
          24.2,
          24.2,
          44.6,
          33.2,
          28.3,
          24.1,
          39.1,
          34.5,
          35.9,
          28.4,
          39.8,
          34.4,
          31.2,
          29.6,
          26.4,
          23.1,
          35.5,
          29.3,
          38.1,
          39.1,
          39.4,
          36.1,
          32.4,
          29,
          35.4,
          27.4,
          32,
          36.6,
          30.8,
          28.5,
          40.6,
          30,
          46.3,
          39,
          26,
          32,
          28.4,
          32.9,
          36.8,
          26.2,
          30.4
         ],
         "z": [
          31,
          21,
          33,
          27,
          22,
          57,
          60,
          22,
          45,
          33,
          26,
          48,
          22,
          22,
          26,
          30,
          42,
          21,
          31,
          22,
          24,
          32,
          25,
          27,
          26,
          23,
          22,
          27,
          24,
          22,
          36,
          22,
          27,
          45,
          26,
          24,
          34,
          42,
          21,
          40,
          24,
          22,
          23,
          24,
          21,
          37,
          25,
          23,
          22,
          21,
          24,
          23,
          30,
          23,
          39,
          26,
          31,
          21,
          22,
          28,
          38,
          22,
          23,
          41,
          34,
          22,
          24,
          23,
          21,
          23,
          22,
          36,
          45,
          27,
          21,
          22,
          29,
          23,
          33,
          23,
          40,
          42,
          21,
          32,
          27,
          55,
          27,
          21,
          25,
          24,
          60,
          32,
          61,
          26,
          22,
          31,
          24,
          22,
          23,
          21,
          22,
          29,
          23,
          34,
          23,
          24,
          25,
          30,
          25,
          24,
          34,
          24,
          63,
          43,
          24,
          21,
          21,
          25,
          23,
          22,
          39,
          37,
          51,
          34,
          26,
          33,
          21,
          28,
          24,
          35,
          29,
          21,
          41,
          22,
          25,
          26,
          30,
          28,
          31,
          21,
          24,
          37,
          46,
          25,
          22,
          26,
          22,
          36,
          49,
          22,
          26,
          46,
          24,
          48,
          65,
          30,
          30,
          21,
          22,
          21,
          25,
          28,
          22,
          22,
          35,
          24,
          22,
          21,
          25,
          25,
          24,
          28,
          42,
          21,
          37,
          25,
          39,
          38,
          26,
          28,
          25,
          22,
          21,
          22,
          26,
          21,
          21,
          21,
          26,
          38,
          22,
          36,
          41,
          21,
          22,
          24,
          28,
          26,
          26,
          23,
          25,
          24,
          24,
          81,
          48,
          39,
          37,
          21,
          22,
          25,
          27,
          28,
          22,
          22,
          59,
          31,
          39,
          63,
          29,
          28,
          23,
          21,
          58,
          28,
          24,
          42,
          33,
          25,
          39,
          21,
          28,
          41,
          40,
          21,
          21,
          21,
          24,
          60,
          25,
          26,
          21,
          21,
          24,
          22,
          22,
          29,
          24,
          23,
          25,
          29,
          28,
          50,
          37,
          21,
          25,
          23,
          28,
          37,
          30,
          42,
          24,
          32,
          22,
          21,
          46,
          37,
          22,
          22,
          23,
          25,
          35,
          27,
          62,
          22,
          24,
          25,
          34,
          21,
          26,
          24,
          30,
          21,
          25,
          27,
          23,
          24,
          26,
          23,
          28,
          28,
          21,
          29,
          21,
          24,
          22,
          23,
          28,
          27,
          27,
          30,
          23,
          23,
          27,
          28,
          22,
          22,
          41,
          24,
          43,
          45,
          49,
          21,
          47,
          22,
          23,
          22,
          22,
          25,
          29,
          23,
          23,
          28,
          26,
          27,
          28,
          22,
          24,
          40,
          21,
          56,
          24,
          34,
          21,
          42,
          38,
          25,
          22,
          22,
          28,
          21,
          42,
          21,
          26,
          22,
          39,
          46,
          32,
          28,
          25,
          39,
          22,
          63,
          27,
          30,
          23
         ]
        },
        {
         "marker": {
          "color": "cyan"
         },
         "mode": "markers",
         "name": "Non Diabetic",
         "type": "scatter3d",
         "x": [
          147
         ],
         "y": [
          32
         ],
         "z": [
          38
         ]
        }
       ],
       "layout": {
        "template": {
         "data": {
          "bar": [
           {
            "error_x": {
             "color": "#2a3f5f"
            },
            "error_y": {
             "color": "#2a3f5f"
            },
            "marker": {
             "line": {
              "color": "#E5ECF6",
              "width": 0.5
             },
             "pattern": {
              "fillmode": "overlay",
              "size": 10,
              "solidity": 0.2
             }
            },
            "type": "bar"
           }
          ],
          "barpolar": [
           {
            "marker": {
             "line": {
              "color": "#E5ECF6",
              "width": 0.5
             },
             "pattern": {
              "fillmode": "overlay",
              "size": 10,
              "solidity": 0.2
             }
            },
            "type": "barpolar"
           }
          ],
          "carpet": [
           {
            "aaxis": {
             "endlinecolor": "#2a3f5f",
             "gridcolor": "white",
             "linecolor": "white",
             "minorgridcolor": "white",
             "startlinecolor": "#2a3f5f"
            },
            "baxis": {
             "endlinecolor": "#2a3f5f",
             "gridcolor": "white",
             "linecolor": "white",
             "minorgridcolor": "white",
             "startlinecolor": "#2a3f5f"
            },
            "type": "carpet"
           }
          ],
          "choropleth": [
           {
            "colorbar": {
             "outlinewidth": 0,
             "ticks": ""
            },
            "type": "choropleth"
           }
          ],
          "contour": [
           {
            "colorbar": {
             "outlinewidth": 0,
             "ticks": ""
            },
            "colorscale": [
             [
              0,
              "#0d0887"
             ],
             [
              0.1111111111111111,
              "#46039f"
             ],
             [
              0.2222222222222222,
              "#7201a8"
             ],
             [
              0.3333333333333333,
              "#9c179e"
             ],
             [
              0.4444444444444444,
              "#bd3786"
             ],
             [
              0.5555555555555556,
              "#d8576b"
             ],
             [
              0.6666666666666666,
              "#ed7953"
             ],
             [
              0.7777777777777778,
              "#fb9f3a"
             ],
             [
              0.8888888888888888,
              "#fdca26"
             ],
             [
              1,
              "#f0f921"
             ]
            ],
            "type": "contour"
           }
          ],
          "contourcarpet": [
           {
            "colorbar": {
             "outlinewidth": 0,
             "ticks": ""
            },
            "type": "contourcarpet"
           }
          ],
          "heatmap": [
           {
            "colorbar": {
             "outlinewidth": 0,
             "ticks": ""
            },
            "colorscale": [
             [
              0,
              "#0d0887"
             ],
             [
              0.1111111111111111,
              "#46039f"
             ],
             [
              0.2222222222222222,
              "#7201a8"
             ],
             [
              0.3333333333333333,
              "#9c179e"
             ],
             [
              0.4444444444444444,
              "#bd3786"
             ],
             [
              0.5555555555555556,
              "#d8576b"
             ],
             [
              0.6666666666666666,
              "#ed7953"
             ],
             [
              0.7777777777777778,
              "#fb9f3a"
             ],
             [
              0.8888888888888888,
              "#fdca26"
             ],
             [
              1,
              "#f0f921"
             ]
            ],
            "type": "heatmap"
           }
          ],
          "heatmapgl": [
           {
            "colorbar": {
             "outlinewidth": 0,
             "ticks": ""
            },
            "colorscale": [
             [
              0,
              "#0d0887"
             ],
             [
              0.1111111111111111,
              "#46039f"
             ],
             [
              0.2222222222222222,
              "#7201a8"
             ],
             [
              0.3333333333333333,
              "#9c179e"
             ],
             [
              0.4444444444444444,
              "#bd3786"
             ],
             [
              0.5555555555555556,
              "#d8576b"
             ],
             [
              0.6666666666666666,
              "#ed7953"
             ],
             [
              0.7777777777777778,
              "#fb9f3a"
             ],
             [
              0.8888888888888888,
              "#fdca26"
             ],
             [
              1,
              "#f0f921"
             ]
            ],
            "type": "heatmapgl"
           }
          ],
          "histogram": [
           {
            "marker": {
             "pattern": {
              "fillmode": "overlay",
              "size": 10,
              "solidity": 0.2
             }
            },
            "type": "histogram"
           }
          ],
          "histogram2d": [
           {
            "colorbar": {
             "outlinewidth": 0,
             "ticks": ""
            },
            "colorscale": [
             [
              0,
              "#0d0887"
             ],
             [
              0.1111111111111111,
              "#46039f"
             ],
             [
              0.2222222222222222,
              "#7201a8"
             ],
             [
              0.3333333333333333,
              "#9c179e"
             ],
             [
              0.4444444444444444,
              "#bd3786"
             ],
             [
              0.5555555555555556,
              "#d8576b"
             ],
             [
              0.6666666666666666,
              "#ed7953"
             ],
             [
              0.7777777777777778,
              "#fb9f3a"
             ],
             [
              0.8888888888888888,
              "#fdca26"
             ],
             [
              1,
              "#f0f921"
             ]
            ],
            "type": "histogram2d"
           }
          ],
          "histogram2dcontour": [
           {
            "colorbar": {
             "outlinewidth": 0,
             "ticks": ""
            },
            "colorscale": [
             [
              0,
              "#0d0887"
             ],
             [
              0.1111111111111111,
              "#46039f"
             ],
             [
              0.2222222222222222,
              "#7201a8"
             ],
             [
              0.3333333333333333,
              "#9c179e"
             ],
             [
              0.4444444444444444,
              "#bd3786"
             ],
             [
              0.5555555555555556,
              "#d8576b"
             ],
             [
              0.6666666666666666,
              "#ed7953"
             ],
             [
              0.7777777777777778,
              "#fb9f3a"
             ],
             [
              0.8888888888888888,
              "#fdca26"
             ],
             [
              1,
              "#f0f921"
             ]
            ],
            "type": "histogram2dcontour"
           }
          ],
          "mesh3d": [
           {
            "colorbar": {
             "outlinewidth": 0,
             "ticks": ""
            },
            "type": "mesh3d"
           }
          ],
          "parcoords": [
           {
            "line": {
             "colorbar": {
              "outlinewidth": 0,
              "ticks": ""
             }
            },
            "type": "parcoords"
           }
          ],
          "pie": [
           {
            "automargin": true,
            "type": "pie"
           }
          ],
          "scatter": [
           {
            "marker": {
             "colorbar": {
              "outlinewidth": 0,
              "ticks": ""
             }
            },
            "type": "scatter"
           }
          ],
          "scatter3d": [
           {
            "line": {
             "colorbar": {
              "outlinewidth": 0,
              "ticks": ""
             }
            },
            "marker": {
             "colorbar": {
              "outlinewidth": 0,
              "ticks": ""
             }
            },
            "type": "scatter3d"
           }
          ],
          "scattercarpet": [
           {
            "marker": {
             "colorbar": {
              "outlinewidth": 0,
              "ticks": ""
             }
            },
            "type": "scattercarpet"
           }
          ],
          "scattergeo": [
           {
            "marker": {
             "colorbar": {
              "outlinewidth": 0,
              "ticks": ""
             }
            },
            "type": "scattergeo"
           }
          ],
          "scattergl": [
           {
            "marker": {
             "colorbar": {
              "outlinewidth": 0,
              "ticks": ""
             }
            },
            "type": "scattergl"
           }
          ],
          "scattermapbox": [
           {
            "marker": {
             "colorbar": {
              "outlinewidth": 0,
              "ticks": ""
             }
            },
            "type": "scattermapbox"
           }
          ],
          "scatterpolar": [
           {
            "marker": {
             "colorbar": {
              "outlinewidth": 0,
              "ticks": ""
             }
            },
            "type": "scatterpolar"
           }
          ],
          "scatterpolargl": [
           {
            "marker": {
             "colorbar": {
              "outlinewidth": 0,
              "ticks": ""
             }
            },
            "type": "scatterpolargl"
           }
          ],
          "scatterternary": [
           {
            "marker": {
             "colorbar": {
              "outlinewidth": 0,
              "ticks": ""
             }
            },
            "type": "scatterternary"
           }
          ],
          "surface": [
           {
            "colorbar": {
             "outlinewidth": 0,
             "ticks": ""
            },
            "colorscale": [
             [
              0,
              "#0d0887"
             ],
             [
              0.1111111111111111,
              "#46039f"
             ],
             [
              0.2222222222222222,
              "#7201a8"
             ],
             [
              0.3333333333333333,
              "#9c179e"
             ],
             [
              0.4444444444444444,
              "#bd3786"
             ],
             [
              0.5555555555555556,
              "#d8576b"
             ],
             [
              0.6666666666666666,
              "#ed7953"
             ],
             [
              0.7777777777777778,
              "#fb9f3a"
             ],
             [
              0.8888888888888888,
              "#fdca26"
             ],
             [
              1,
              "#f0f921"
             ]
            ],
            "type": "surface"
           }
          ],
          "table": [
           {
            "cells": {
             "fill": {
              "color": "#EBF0F8"
             },
             "line": {
              "color": "white"
             }
            },
            "header": {
             "fill": {
              "color": "#C8D4E3"
             },
             "line": {
              "color": "white"
             }
            },
            "type": "table"
           }
          ]
         },
         "layout": {
          "annotationdefaults": {
           "arrowcolor": "#2a3f5f",
           "arrowhead": 0,
           "arrowwidth": 1
          },
          "autotypenumbers": "strict",
          "coloraxis": {
           "colorbar": {
            "outlinewidth": 0,
            "ticks": ""
           }
          },
          "colorscale": {
           "diverging": [
            [
             0,
             "#8e0152"
            ],
            [
             0.1,
             "#c51b7d"
            ],
            [
             0.2,
             "#de77ae"
            ],
            [
             0.3,
             "#f1b6da"
            ],
            [
             0.4,
             "#fde0ef"
            ],
            [
             0.5,
             "#f7f7f7"
            ],
            [
             0.6,
             "#e6f5d0"
            ],
            [
             0.7,
             "#b8e186"
            ],
            [
             0.8,
             "#7fbc41"
            ],
            [
             0.9,
             "#4d9221"
            ],
            [
             1,
             "#276419"
            ]
           ],
           "sequential": [
            [
             0,
             "#0d0887"
            ],
            [
             0.1111111111111111,
             "#46039f"
            ],
            [
             0.2222222222222222,
             "#7201a8"
            ],
            [
             0.3333333333333333,
             "#9c179e"
            ],
            [
             0.4444444444444444,
             "#bd3786"
            ],
            [
             0.5555555555555556,
             "#d8576b"
            ],
            [
             0.6666666666666666,
             "#ed7953"
            ],
            [
             0.7777777777777778,
             "#fb9f3a"
            ],
            [
             0.8888888888888888,
             "#fdca26"
            ],
            [
             1,
             "#f0f921"
            ]
           ],
           "sequentialminus": [
            [
             0,
             "#0d0887"
            ],
            [
             0.1111111111111111,
             "#46039f"
            ],
            [
             0.2222222222222222,
             "#7201a8"
            ],
            [
             0.3333333333333333,
             "#9c179e"
            ],
            [
             0.4444444444444444,
             "#bd3786"
            ],
            [
             0.5555555555555556,
             "#d8576b"
            ],
            [
             0.6666666666666666,
             "#ed7953"
            ],
            [
             0.7777777777777778,
             "#fb9f3a"
            ],
            [
             0.8888888888888888,
             "#fdca26"
            ],
            [
             1,
             "#f0f921"
            ]
           ]
          },
          "colorway": [
           "#636efa",
           "#EF553B",
           "#00cc96",
           "#ab63fa",
           "#FFA15A",
           "#19d3f3",
           "#FF6692",
           "#B6E880",
           "#FF97FF",
           "#FECB52"
          ],
          "font": {
           "color": "#2a3f5f"
          },
          "geo": {
           "bgcolor": "white",
           "lakecolor": "white",
           "landcolor": "#E5ECF6",
           "showlakes": true,
           "showland": true,
           "subunitcolor": "white"
          },
          "hoverlabel": {
           "align": "left"
          },
          "hovermode": "closest",
          "mapbox": {
           "style": "light"
          },
          "paper_bgcolor": "white",
          "plot_bgcolor": "#E5ECF6",
          "polar": {
           "angularaxis": {
            "gridcolor": "white",
            "linecolor": "white",
            "ticks": ""
           },
           "bgcolor": "#E5ECF6",
           "radialaxis": {
            "gridcolor": "white",
            "linecolor": "white",
            "ticks": ""
           }
          },
          "scene": {
           "xaxis": {
            "backgroundcolor": "#E5ECF6",
            "gridcolor": "white",
            "gridwidth": 2,
            "linecolor": "white",
            "showbackground": true,
            "ticks": "",
            "zerolinecolor": "white"
           },
           "yaxis": {
            "backgroundcolor": "#E5ECF6",
            "gridcolor": "white",
            "gridwidth": 2,
            "linecolor": "white",
            "showbackground": true,
            "ticks": "",
            "zerolinecolor": "white"
           },
           "zaxis": {
            "backgroundcolor": "#E5ECF6",
            "gridcolor": "white",
            "gridwidth": 2,
            "linecolor": "white",
            "showbackground": true,
            "ticks": "",
            "zerolinecolor": "white"
           }
          },
          "shapedefaults": {
           "line": {
            "color": "#2a3f5f"
           }
          },
          "ternary": {
           "aaxis": {
            "gridcolor": "white",
            "linecolor": "white",
            "ticks": ""
           },
           "baxis": {
            "gridcolor": "white",
            "linecolor": "white",
            "ticks": ""
           },
           "bgcolor": "#E5ECF6",
           "caxis": {
            "gridcolor": "white",
            "linecolor": "white",
            "ticks": ""
           }
          },
          "title": {
           "x": 0.05
          },
          "xaxis": {
           "automargin": true,
           "gridcolor": "white",
           "linecolor": "white",
           "ticks": "",
           "title": {
            "standoff": 15
           },
           "zerolinecolor": "white",
           "zerolinewidth": 2
          },
          "yaxis": {
           "automargin": true,
           "gridcolor": "white",
           "linecolor": "white",
           "ticks": "",
           "title": {
            "standoff": 15
           },
           "zerolinecolor": "white",
           "zerolinewidth": 2
          }
         }
        }
       }
      },
      "text/html": [
       "<div>                            <div id=\"8e29099c-1fef-40f6-94d1-9fd15af10867\" class=\"plotly-graph-div\" style=\"height:525px; width:100%;\"></div>            <script type=\"text/javascript\">                require([\"plotly\"], function(Plotly) {                    window.PLOTLYENV=window.PLOTLYENV || {};                                    if (document.getElementById(\"8e29099c-1fef-40f6-94d1-9fd15af10867\")) {                    Plotly.newPlot(                        \"8e29099c-1fef-40f6-94d1-9fd15af10867\",                        [{\"marker\":{\"color\":\"pink\"},\"mode\":\"markers\",\"name\":\"Diabetic\",\"x\":[148.0,137.0,78.0,197.0,189.0,166.0,118.0,115.0,119.0,143.0,125.0,158.0,102.0,90.0,111.0,171.0,180.0,103.0,176.0,187.0,109.0,100.0,136.0,122.0,95.0,171.0,155.0,160.0,162.0,88.0,117.0,173.0,170.0,156.0,152.0,163.0,104.0,134.0,179.0,129.0,194.0,181.0,128.0,109.0,139.0,158.0,107.0,109.0,148.0,196.0,184.0,140.0,112.0,151.0,109.0,85.0,177.0,162.0,134.0,181.0,179.0,164.0,119.0,184.0,92.0,113.0,155.0,101.0,106.0,119.0,107.0,128.0,128.0,146.0,100.0,144.0,161.0,128.0,124.0,155.0,109.0,112.0,124.0,152.0,122.0,102.0,152.0,125.0,196.0,189.0,133.0,173.0,140.0,116.0,105.0,144.0,131.0,193.0,136.0,172.0,138.0,173.0,144.0,129.0,151.0,184.0,181.0,95.0,189.0,117.0,180.0,104.0,175.0,148.0,105.0,158.0,135.0,125.0,195.0,180.0,84.0,163.0,145.0,129.0,100.0,128.0,90.0,186.0,187.0,198.0,121.0,197.0,151.0,124.0,176.0,111.0,188.0,150.0,181.0,174.0,168.0,138.0,112.0,97.0,167.0,179.0,136.0,155.0,80.0,199.0,167.0,145.0,115.0,145.0,111.0,162.0,144.0,129.0,142.0,169.0,125.0,168.0,93.0,129.0,187.0,173.0,97.0,149.0,130.0,174.0,120.0,147.0,187.0,181.0,154.0,128.0,170.0],\"y\":[33.6,43.1,31.0,30.5,30.1,25.8,45.8,34.6,29.0,36.6,31.1,31.6,32.9,38.2,37.1,45.4,42.0,39.1,33.7,37.7,32.5,32.9,37.1,49.7,37.4,33.3,34.0,30.5,53.2,55.0,34.5,29.7,34.5,34.3,50.0,40.9,29.9,35.4,32.7,67.1,35.9,30.1,32.0,27.9,31.6,39.4,22.9,34.8,30.9,37.5,35.5,42.6,34.2,41.8,35.8,29.0,34.6,37.2,46.2,35.9,44.1,30.8,27.1,30.0,27.6,33.6,33.3,45.6,26.5,45.6,36.6,43.3,40.5,28.0,36.6,31.6,25.5,30.5,32.9,26.6,35.9,31.6,27.4,26.8,35.1,45.5,34.2,33.3,36.5,31.2,32.8,38.4,39.2,32.3,43.3,32.0,34.3,34.9,35.0,42.4,34.6,35.7,38.5,26.4,42.9,37.0,34.1,35.0,34.3,29.7,59.4,33.6,33.6,37.6,33.7,35.5,42.3,28.9,25.1,36.5,29.7,31.6,30.3,36.4,39.4,32.4,34.9,34.5,43.6,41.3,34.3,34.7,42.1,28.7,33.3,46.8,32.0,35.2,40.0,32.9,38.2,36.1,28.2,40.9,23.4,37.8,28.3,38.7,34.2,42.9,37.6,37.9,33.7,32.5,27.5,49.6,46.1,38.5,30.4,29.9,27.6,35.0,38.0,41.2,33.9,33.8,35.6,29.3,28.4,44.5,42.3,49.3,36.4,43.3,32.4,36.5,44.0],\"z\":[50,33,26,53,59,51,31,32,29,51,41,28,46,27,56,54,25,31,58,41,38,28,43,31,24,24,46,39,25,26,40,33,30,42,36,47,41,29,36,26,41,60,33,31,25,29,23,26,29,57,41,24,36,38,25,32,21,24,46,51,23,32,33,49,44,21,51,38,29,29,25,31,24,29,46,25,47,25,30,27,43,25,36,43,30,23,33,28,29,29,45,25,58,35,45,58,22,25,35,28,21,22,37,28,36,31,38,43,41,30,25,22,38,51,29,35,24,45,55,35,46,28,53,32,43,27,56,37,53,28,33,62,21,52,52,45,22,54,22,36,40,50,50,32,33,22,42,25,27,22,43,40,40,70,40,26,46,43,43,31,49,52,23,38,34,31,52,42,34,24,48,27,36,26,45,37,43],\"type\":\"scatter3d\"},{\"marker\":{\"color\":\"purple\"},\"mode\":\"markers\",\"name\":\"Non Diabetic\",\"x\":[85.0,89.0,103.0,126.0,97.0,145.0,109.0,88.0,122.0,103.0,180.0,106.0,71.0,103.0,101.0,88.0,150.0,73.0,100.0,105.0,141.0,99.0,95.0,146.0,139.0,129.0,79.0,95.0,112.0,113.0,83.0,101.0,110.0,106.0,100.0,107.0,123.0,81.0,142.0,144.0,92.0,71.0,93.0,81.0,126.0,144.0,83.0,89.0,97.0,99.0,111.0,107.0,120.0,118.0,84.0,96.0,125.0,100.0,93.0,105.0,106.0,108.0,154.0,57.0,106.0,90.0,136.0,153.0,99.0,109.0,88.0,151.0,102.0,114.0,100.0,148.0,111.0,79.0,75.0,119.0,123.0,85.0,113.0,108.0,99.0,103.0,111.0,96.0,81.0,147.0,179.0,125.0,142.0,100.0,87.0,197.0,117.0,79.0,74.0,91.0,91.0,146.0,165.0,124.0,111.0,90.0,86.0,111.0,114.0,193.0,191.0,95.0,142.0,96.0,128.0,108.0,71.0,100.0,104.0,108.0,129.0,133.0,136.0,155.0,96.0,108.0,78.0,151.0,126.0,77.0,120.0,137.0,80.0,106.0,113.0,112.0,99.0,115.0,129.0,112.0,157.0,105.0,118.0,87.0,95.0,165.0,130.0,95.0,126.0,139.0,99.0,61.0,90.0,88.0,103.0,147.0,99.0,101.0,81.0,84.0,105.0,122.0,98.0,87.0,93.0,107.0,105.0,109.0,90.0,125.0,119.0,100.0,100.0,131.0,116.0,127.0,96.0,72.0,123.0,102.0,112.0,143.0,143.0,97.0,119.0,94.0,102.0,115.0,135.0,89.0,80.0,90.0,140.0,97.0,83.0,117.0,100.0,95.0,120.0,82.0,91.0,100.0,86.0,134.0,120.0,74.0,88.0,124.0,74.0,97.0,154.0,144.0,137.0,119.0,137.0,114.0,126.0,132.0,123.0,85.0,84.0,139.0,173.0,99.0,83.0,89.0,99.0,81.0,154.0,117.0,84.0,94.0,96.0,130.0,84.0,139.0,99.0,129.0,68.0,124.0,87.0,97.0,116.0,117.0,122.0,86.0,77.0,127.0,84.0,88.0,131.0,164.0,189.0,116.0,84.0,88.0,84.0,124.0,97.0,103.0,87.0,99.0,95.0,99.0,92.0,154.0,111.0,98.0,143.0,119.0,108.0,109.0,121.0,93.0,112.0,82.0,123.0,89.0,109.0,108.0,124.0,124.0,92.0,152.0,111.0,106.0,105.0,68.0,112.0,92.0,94.0,90.0,94.0,102.0,128.0,94.0,100.0,102.0,103.0,157.0,107.0,91.0,117.0,123.0,106.0,101.0,120.0,112.0,98.0,154.0,165.0,99.0,68.0,123.0,101.0,56.0,95.0,129.0,107.0,140.0,121.0,127.0,122.0,110.0,80.0,127.0,158.0,126.0,134.0,94.0,108.0,83.0,114.0,117.0,112.0,116.0,141.0,106.0,95.0,126.0,65.0,99.0,102.0,109.0,153.0,100.0,81.0,121.0,108.0,137.0,88.0,101.0,122.0,121.0,93.0],\"y\":[26.6,28.1,43.3,39.3,23.2,22.2,36.0,24.8,27.6,24.0,34.0,22.7,28.0,19.4,24.2,24.4,34.7,23.0,46.8,41.5,25.4,29.0,19.6,28.9,28.6,35.1,32.0,37.7,25.0,22.4,29.3,24.6,32.4,36.6,38.5,26.5,32.0,46.7,24.7,33.9,31.6,20.4,28.7,26.6,28.7,29.5,34.3,31.2,28.2,23.2,34.2,33.6,42.9,33.3,38.3,21.1,33.8,30.8,28.7,36.9,39.5,32.5,32.8,32.8,30.5,27.3,37.4,40.6,24.6,25.2,29.0,29.7,37.2,44.2,29.7,32.5,28.4,43.5,29.7,34.9,33.1,24.4,31.0,27.3,20.4,37.7,23.9,33.2,27.7,42.8,34.2,30.0,28.8,23.6,34.6,36.7,45.2,25.4,29.7,29.2,33.1,38.2,52.3,35.4,30.1,24.4,35.8,30.1,28.7,25.9,30.9,32.1,32.4,33.6,40.0,25.2,33.2,40.5,27.8,25.3,35.9,32.4,26.0,38.7,20.8,36.1,36.9,35.5,30.7,35.8,39.7,24.8,26.2,39.4,29.5,34.1,19.3,38.1,27.5,35.7,25.6,30.8,23.1,32.7,23.9,47.9,25.9,25.9,38.5,28.7,21.8,34.4,27.2,35.3,39.2,34.9,34.0,21.0,27.5,35.8,34.9,36.2,25.2,37.2,43.4,30.8,20.0,25.4,25.1,24.3,22.3,31.6,32.0,23.7,22.1,27.7,24.7,31.6,42.1,35.7,34.4,42.4,26.2,27.2,45.3,26.0,40.6,30.8,40.6,30.4,30.0,24.5,37.4,18.2,32.2,33.2,25.3,36.5,30.5,21.2,39.9,37.8,30.2,25.9,20.8,35.3,27.6,21.8,27.8,36.8,46.1,41.3,33.2,38.8,27.3,23.8,25.9,28.0,35.2,27.8,38.2,40.7,46.5,25.6,36.8,33.5,32.8,30.1,29.3,25.2,37.2,33.3,37.3,28.6,30.4,22.1,25.6,19.6,25.0,33.2,21.8,18.2,26.3,30.8,29.8,41.3,33.3,36.3,39.5,32.0,33.1,32.8,28.5,27.4,31.9,29.9,36.9,25.5,38.1,46.2,37.6,26.9,26.1,38.6,32.0,31.3,29.5,34.7,30.1,35.5,24.0,25.0,26.5,22.5,39.4,28.5,33.6,27.8,23.1,27.1,27.8,35.8,19.5,41.5,24.0,30.9,32.5,20.1,38.4,24.2,43.5,37.7,24.7,34.5,27.5,31.6,19.5,29.3,27.6,39.4,26.4,25.2,33.8,34.1,34.2,21.8,38.9,34.8,34.0,30.9,33.6,25.4,35.5,57.3,24.2,24.2,44.6,33.2,28.3,24.1,39.1,34.5,35.9,28.4,39.8,34.4,31.2,29.6,26.4,23.1,35.5,29.3,38.1,39.1,39.4,36.1,32.4,29.0,35.4,27.4,32.0,36.6,30.8,28.5,40.6,30.0,46.3,39.0,26.0,32.0,28.4,32.9,36.8,26.2,30.4],\"z\":[31,21,33,27,22,57,60,22,45,33,26,48,22,22,26,30,42,21,31,22,24,32,25,27,26,23,22,27,24,22,36,22,27,45,26,24,34,42,21,40,24,22,23,24,21,37,25,23,22,21,24,23,30,23,39,26,31,21,22,28,38,22,23,41,34,22,24,23,21,23,22,36,45,27,21,22,29,23,33,23,40,42,21,32,27,55,27,21,25,24,60,32,61,26,22,31,24,22,23,21,22,29,23,34,23,24,25,30,25,24,34,24,63,43,24,21,21,25,23,22,39,37,51,34,26,33,21,28,24,35,29,21,41,22,25,26,30,28,31,21,24,37,46,25,22,26,22,36,49,22,26,46,24,48,65,30,30,21,22,21,25,28,22,22,35,24,22,21,25,25,24,28,42,21,37,25,39,38,26,28,25,22,21,22,26,21,21,21,26,38,22,36,41,21,22,24,28,26,26,23,25,24,24,81,48,39,37,21,22,25,27,28,22,22,59,31,39,63,29,28,23,21,58,28,24,42,33,25,39,21,28,41,40,21,21,21,24,60,25,26,21,21,24,22,22,29,24,23,25,29,28,50,37,21,25,23,28,37,30,42,24,32,22,21,46,37,22,22,23,25,35,27,62,22,24,25,34,21,26,24,30,21,25,27,23,24,26,23,28,28,21,29,21,24,22,23,28,27,27,30,23,23,27,28,22,22,41,24,43,45,49,21,47,22,23,22,22,25,29,23,23,28,26,27,28,22,24,40,21,56,24,34,21,42,38,25,22,22,28,21,42,21,26,22,39,46,32,28,25,39,22,63,27,30,23],\"type\":\"scatter3d\"},{\"marker\":{\"color\":\"cyan\"},\"mode\":\"markers\",\"name\":\"Non Diabetic\",\"x\":[147],\"y\":[32],\"z\":[38],\"type\":\"scatter3d\"}],                        {\"template\":{\"data\":{\"bar\":[{\"error_x\":{\"color\":\"#2a3f5f\"},\"error_y\":{\"color\":\"#2a3f5f\"},\"marker\":{\"line\":{\"color\":\"#E5ECF6\",\"width\":0.5},\"pattern\":{\"fillmode\":\"overlay\",\"size\":10,\"solidity\":0.2}},\"type\":\"bar\"}],\"barpolar\":[{\"marker\":{\"line\":{\"color\":\"#E5ECF6\",\"width\":0.5},\"pattern\":{\"fillmode\":\"overlay\",\"size\":10,\"solidity\":0.2}},\"type\":\"barpolar\"}],\"carpet\":[{\"aaxis\":{\"endlinecolor\":\"#2a3f5f\",\"gridcolor\":\"white\",\"linecolor\":\"white\",\"minorgridcolor\":\"white\",\"startlinecolor\":\"#2a3f5f\"},\"baxis\":{\"endlinecolor\":\"#2a3f5f\",\"gridcolor\":\"white\",\"linecolor\":\"white\",\"minorgridcolor\":\"white\",\"startlinecolor\":\"#2a3f5f\"},\"type\":\"carpet\"}],\"choropleth\":[{\"colorbar\":{\"outlinewidth\":0,\"ticks\":\"\"},\"type\":\"choropleth\"}],\"contour\":[{\"colorbar\":{\"outlinewidth\":0,\"ticks\":\"\"},\"colorscale\":[[0.0,\"#0d0887\"],[0.1111111111111111,\"#46039f\"],[0.2222222222222222,\"#7201a8\"],[0.3333333333333333,\"#9c179e\"],[0.4444444444444444,\"#bd3786\"],[0.5555555555555556,\"#d8576b\"],[0.6666666666666666,\"#ed7953\"],[0.7777777777777778,\"#fb9f3a\"],[0.8888888888888888,\"#fdca26\"],[1.0,\"#f0f921\"]],\"type\":\"contour\"}],\"contourcarpet\":[{\"colorbar\":{\"outlinewidth\":0,\"ticks\":\"\"},\"type\":\"contourcarpet\"}],\"heatmap\":[{\"colorbar\":{\"outlinewidth\":0,\"ticks\":\"\"},\"colorscale\":[[0.0,\"#0d0887\"],[0.1111111111111111,\"#46039f\"],[0.2222222222222222,\"#7201a8\"],[0.3333333333333333,\"#9c179e\"],[0.4444444444444444,\"#bd3786\"],[0.5555555555555556,\"#d8576b\"],[0.6666666666666666,\"#ed7953\"],[0.7777777777777778,\"#fb9f3a\"],[0.8888888888888888,\"#fdca26\"],[1.0,\"#f0f921\"]],\"type\":\"heatmap\"}],\"heatmapgl\":[{\"colorbar\":{\"outlinewidth\":0,\"ticks\":\"\"},\"colorscale\":[[0.0,\"#0d0887\"],[0.1111111111111111,\"#46039f\"],[0.2222222222222222,\"#7201a8\"],[0.3333333333333333,\"#9c179e\"],[0.4444444444444444,\"#bd3786\"],[0.5555555555555556,\"#d8576b\"],[0.6666666666666666,\"#ed7953\"],[0.7777777777777778,\"#fb9f3a\"],[0.8888888888888888,\"#fdca26\"],[1.0,\"#f0f921\"]],\"type\":\"heatmapgl\"}],\"histogram\":[{\"marker\":{\"pattern\":{\"fillmode\":\"overlay\",\"size\":10,\"solidity\":0.2}},\"type\":\"histogram\"}],\"histogram2d\":[{\"colorbar\":{\"outlinewidth\":0,\"ticks\":\"\"},\"colorscale\":[[0.0,\"#0d0887\"],[0.1111111111111111,\"#46039f\"],[0.2222222222222222,\"#7201a8\"],[0.3333333333333333,\"#9c179e\"],[0.4444444444444444,\"#bd3786\"],[0.5555555555555556,\"#d8576b\"],[0.6666666666666666,\"#ed7953\"],[0.7777777777777778,\"#fb9f3a\"],[0.8888888888888888,\"#fdca26\"],[1.0,\"#f0f921\"]],\"type\":\"histogram2d\"}],\"histogram2dcontour\":[{\"colorbar\":{\"outlinewidth\":0,\"ticks\":\"\"},\"colorscale\":[[0.0,\"#0d0887\"],[0.1111111111111111,\"#46039f\"],[0.2222222222222222,\"#7201a8\"],[0.3333333333333333,\"#9c179e\"],[0.4444444444444444,\"#bd3786\"],[0.5555555555555556,\"#d8576b\"],[0.6666666666666666,\"#ed7953\"],[0.7777777777777778,\"#fb9f3a\"],[0.8888888888888888,\"#fdca26\"],[1.0,\"#f0f921\"]],\"type\":\"histogram2dcontour\"}],\"mesh3d\":[{\"colorbar\":{\"outlinewidth\":0,\"ticks\":\"\"},\"type\":\"mesh3d\"}],\"parcoords\":[{\"line\":{\"colorbar\":{\"outlinewidth\":0,\"ticks\":\"\"}},\"type\":\"parcoords\"}],\"pie\":[{\"automargin\":true,\"type\":\"pie\"}],\"scatter\":[{\"marker\":{\"colorbar\":{\"outlinewidth\":0,\"ticks\":\"\"}},\"type\":\"scatter\"}],\"scatter3d\":[{\"line\":{\"colorbar\":{\"outlinewidth\":0,\"ticks\":\"\"}},\"marker\":{\"colorbar\":{\"outlinewidth\":0,\"ticks\":\"\"}},\"type\":\"scatter3d\"}],\"scattercarpet\":[{\"marker\":{\"colorbar\":{\"outlinewidth\":0,\"ticks\":\"\"}},\"type\":\"scattercarpet\"}],\"scattergeo\":[{\"marker\":{\"colorbar\":{\"outlinewidth\":0,\"ticks\":\"\"}},\"type\":\"scattergeo\"}],\"scattergl\":[{\"marker\":{\"colorbar\":{\"outlinewidth\":0,\"ticks\":\"\"}},\"type\":\"scattergl\"}],\"scattermapbox\":[{\"marker\":{\"colorbar\":{\"outlinewidth\":0,\"ticks\":\"\"}},\"type\":\"scattermapbox\"}],\"scatterpolar\":[{\"marker\":{\"colorbar\":{\"outlinewidth\":0,\"ticks\":\"\"}},\"type\":\"scatterpolar\"}],\"scatterpolargl\":[{\"marker\":{\"colorbar\":{\"outlinewidth\":0,\"ticks\":\"\"}},\"type\":\"scatterpolargl\"}],\"scatterternary\":[{\"marker\":{\"colorbar\":{\"outlinewidth\":0,\"ticks\":\"\"}},\"type\":\"scatterternary\"}],\"surface\":[{\"colorbar\":{\"outlinewidth\":0,\"ticks\":\"\"},\"colorscale\":[[0.0,\"#0d0887\"],[0.1111111111111111,\"#46039f\"],[0.2222222222222222,\"#7201a8\"],[0.3333333333333333,\"#9c179e\"],[0.4444444444444444,\"#bd3786\"],[0.5555555555555556,\"#d8576b\"],[0.6666666666666666,\"#ed7953\"],[0.7777777777777778,\"#fb9f3a\"],[0.8888888888888888,\"#fdca26\"],[1.0,\"#f0f921\"]],\"type\":\"surface\"}],\"table\":[{\"cells\":{\"fill\":{\"color\":\"#EBF0F8\"},\"line\":{\"color\":\"white\"}},\"header\":{\"fill\":{\"color\":\"#C8D4E3\"},\"line\":{\"color\":\"white\"}},\"type\":\"table\"}]},\"layout\":{\"annotationdefaults\":{\"arrowcolor\":\"#2a3f5f\",\"arrowhead\":0,\"arrowwidth\":1},\"autotypenumbers\":\"strict\",\"coloraxis\":{\"colorbar\":{\"outlinewidth\":0,\"ticks\":\"\"}},\"colorscale\":{\"diverging\":[[0,\"#8e0152\"],[0.1,\"#c51b7d\"],[0.2,\"#de77ae\"],[0.3,\"#f1b6da\"],[0.4,\"#fde0ef\"],[0.5,\"#f7f7f7\"],[0.6,\"#e6f5d0\"],[0.7,\"#b8e186\"],[0.8,\"#7fbc41\"],[0.9,\"#4d9221\"],[1,\"#276419\"]],\"sequential\":[[0.0,\"#0d0887\"],[0.1111111111111111,\"#46039f\"],[0.2222222222222222,\"#7201a8\"],[0.3333333333333333,\"#9c179e\"],[0.4444444444444444,\"#bd3786\"],[0.5555555555555556,\"#d8576b\"],[0.6666666666666666,\"#ed7953\"],[0.7777777777777778,\"#fb9f3a\"],[0.8888888888888888,\"#fdca26\"],[1.0,\"#f0f921\"]],\"sequentialminus\":[[0.0,\"#0d0887\"],[0.1111111111111111,\"#46039f\"],[0.2222222222222222,\"#7201a8\"],[0.3333333333333333,\"#9c179e\"],[0.4444444444444444,\"#bd3786\"],[0.5555555555555556,\"#d8576b\"],[0.6666666666666666,\"#ed7953\"],[0.7777777777777778,\"#fb9f3a\"],[0.8888888888888888,\"#fdca26\"],[1.0,\"#f0f921\"]]},\"colorway\":[\"#636efa\",\"#EF553B\",\"#00cc96\",\"#ab63fa\",\"#FFA15A\",\"#19d3f3\",\"#FF6692\",\"#B6E880\",\"#FF97FF\",\"#FECB52\"],\"font\":{\"color\":\"#2a3f5f\"},\"geo\":{\"bgcolor\":\"white\",\"lakecolor\":\"white\",\"landcolor\":\"#E5ECF6\",\"showlakes\":true,\"showland\":true,\"subunitcolor\":\"white\"},\"hoverlabel\":{\"align\":\"left\"},\"hovermode\":\"closest\",\"mapbox\":{\"style\":\"light\"},\"paper_bgcolor\":\"white\",\"plot_bgcolor\":\"#E5ECF6\",\"polar\":{\"angularaxis\":{\"gridcolor\":\"white\",\"linecolor\":\"white\",\"ticks\":\"\"},\"bgcolor\":\"#E5ECF6\",\"radialaxis\":{\"gridcolor\":\"white\",\"linecolor\":\"white\",\"ticks\":\"\"}},\"scene\":{\"xaxis\":{\"backgroundcolor\":\"#E5ECF6\",\"gridcolor\":\"white\",\"gridwidth\":2,\"linecolor\":\"white\",\"showbackground\":true,\"ticks\":\"\",\"zerolinecolor\":\"white\"},\"yaxis\":{\"backgroundcolor\":\"#E5ECF6\",\"gridcolor\":\"white\",\"gridwidth\":2,\"linecolor\":\"white\",\"showbackground\":true,\"ticks\":\"\",\"zerolinecolor\":\"white\"},\"zaxis\":{\"backgroundcolor\":\"#E5ECF6\",\"gridcolor\":\"white\",\"gridwidth\":2,\"linecolor\":\"white\",\"showbackground\":true,\"ticks\":\"\",\"zerolinecolor\":\"white\"}},\"shapedefaults\":{\"line\":{\"color\":\"#2a3f5f\"}},\"ternary\":{\"aaxis\":{\"gridcolor\":\"white\",\"linecolor\":\"white\",\"ticks\":\"\"},\"baxis\":{\"gridcolor\":\"white\",\"linecolor\":\"white\",\"ticks\":\"\"},\"bgcolor\":\"#E5ECF6\",\"caxis\":{\"gridcolor\":\"white\",\"linecolor\":\"white\",\"ticks\":\"\"}},\"title\":{\"x\":0.05},\"xaxis\":{\"automargin\":true,\"gridcolor\":\"white\",\"linecolor\":\"white\",\"ticks\":\"\",\"title\":{\"standoff\":15},\"zerolinecolor\":\"white\",\"zerolinewidth\":2},\"yaxis\":{\"automargin\":true,\"gridcolor\":\"white\",\"linecolor\":\"white\",\"ticks\":\"\",\"title\":{\"standoff\":15},\"zerolinecolor\":\"white\",\"zerolinewidth\":2}}}},                        {\"responsive\": true}                    ).then(function(){\n",
       "                            \n",
       "var gd = document.getElementById('8e29099c-1fef-40f6-94d1-9fd15af10867');\n",
       "var x = new MutationObserver(function (mutations, observer) {{\n",
       "        var display = window.getComputedStyle(gd).display;\n",
       "        if (!display || display === 'none') {{\n",
       "            console.log([gd, 'removed!']);\n",
       "            Plotly.purge(gd);\n",
       "            observer.disconnect();\n",
       "        }}\n",
       "}});\n",
       "\n",
       "// Listen for the removal of the full notebook cells\n",
       "var notebookContainer = gd.closest('#notebook-container');\n",
       "if (notebookContainer) {{\n",
       "    x.observe(notebookContainer, {childList: true});\n",
       "}}\n",
       "\n",
       "// Listen for the clearing of the current output cell\n",
       "var outputEl = gd.closest('.output');\n",
       "if (outputEl) {{\n",
       "    x.observe(outputEl, {childList: true});\n",
       "}}\n",
       "\n",
       "                        })                };                });            </script>        </div>"
      ]
     },
     "metadata": {},
     "output_type": "display_data"
    }
   ],
   "source": [
    "test_point = [147, 32, 38]\n",
    "tx = test_point[0]\n",
    "ty = test_point[1]\n",
    "tz = test_point[2]\n",
    "fig = go.Figure()\n",
    "fig.add_trace(go.Scatter3d(x=df_y['Glucose'], y=df_y['BMI'], z=df_y['Age'],mode='markers',marker=dict(color=\"pink\"),name='Diabetic'))\n",
    "fig.add_trace(go.Scatter3d(x=df_n['Glucose'], y=df_n['BMI'], z=df_n['Age'],mode='markers',marker=dict(color=\"purple\"),name='Non Diabetic'))\n",
    "fig.add_trace(go.Scatter3d(x= [tx], y= [ty], z= [tz],mode='markers',marker=dict(color=\"cyan\"),name='Non Diabetic'))\n",
    "\n",
    "fig.show()"
   ]
  },
  {
   "cell_type": "code",
   "execution_count": 293,
   "metadata": {},
   "outputs": [],
   "source": [
    "probability = []\n",
    "\n",
    "for d in [df_y,df_n]:\n",
    "    mean = np.mean(d)\n",
    "    cov = np.cov(d, rowvar = 0)\n",
    "    prob = mn.pdf(test_point, mean, cov)\n",
    "    probability.append(prob)\n"
   ]
  },
  {
   "cell_type": "code",
   "execution_count": 294,
   "metadata": {},
   "outputs": [
    {
     "name": "stdout",
     "output_type": "stream",
     "text": [
      "Chance of person being non-diabetic is 46.48%\n"
     ]
    }
   ],
   "source": [
    "rows_y = df_y.shape[0]\n",
    "rows_n = df_n.shape[0]\n",
    "\n",
    "f_probability = rows_n *probability[1] / (rows_n *probability[1] + rows_y *probability[0]) \n",
    "print(f\"Chance of person being non-diabetic is {100 * f_probability:.2f}%\")"
   ]
  },
  {
   "cell_type": "markdown",
   "metadata": {},
   "source": [
    "# Data Modeling"
   ]
  },
  {
   "cell_type": "code",
   "execution_count": 318,
   "metadata": {},
   "outputs": [],
   "source": [
    "X,Y = data.values[:,:-1], data.values[:,-1]"
   ]
  },
  {
   "cell_type": "code",
   "execution_count": 319,
   "metadata": {},
   "outputs": [],
   "source": [
    "normalize = StandardScaler()\n",
    "normalize.fit(X)\n",
    "normalized_data = normalize.transform(X)"
   ]
  },
  {
   "cell_type": "code",
   "execution_count": 320,
   "metadata": {},
   "outputs": [],
   "source": [
    "X = normalized_data"
   ]
  },
  {
   "cell_type": "code",
   "execution_count": 321,
   "metadata": {},
   "outputs": [],
   "source": [
    "X_train, X_test, Y_train, Y_test = train_test_split(X,Y, test_size = 0.01, random_state=42, stratify = Y)"
   ]
  },
  {
   "cell_type": "code",
   "execution_count": 322,
   "metadata": {},
   "outputs": [
    {
     "data": {
      "text/plain": [
       "LogisticRegression(C=1.0, class_weight=None, dual=False, fit_intercept=True,\n",
       "                   intercept_scaling=1, l1_ratio=None, max_iter=100,\n",
       "                   multi_class='auto', n_jobs=None, penalty='l2',\n",
       "                   random_state=None, solver='lbfgs', tol=0.0001, verbose=0,\n",
       "                   warm_start=False)"
      ]
     },
     "execution_count": 322,
     "metadata": {},
     "output_type": "execute_result"
    }
   ],
   "source": [
    "LR_model = LogisticRegression()\n",
    "LR_model.fit(X_train,Y_train)"
   ]
  },
  {
   "cell_type": "code",
   "execution_count": 323,
   "metadata": {},
   "outputs": [
    {
     "data": {
      "text/plain": [
       "0.8333333333333334"
      ]
     },
     "execution_count": 323,
     "metadata": {},
     "output_type": "execute_result"
    }
   ],
   "source": [
    "accuracy = LR_model.score(X_test,Y_test)\n",
    "accuracy"
   ]
  }
 ],
 "metadata": {
  "kernelspec": {
   "display_name": "Python 3",
   "language": "python",
   "name": "python3"
  },
  "language_info": {
   "codemirror_mode": {
    "name": "ipython",
    "version": 3
   },
   "file_extension": ".py",
   "mimetype": "text/x-python",
   "name": "python",
   "nbconvert_exporter": "python",
   "pygments_lexer": "ipython3",
   "version": "3.7.6"
  }
 },
 "nbformat": 4,
 "nbformat_minor": 4
}
